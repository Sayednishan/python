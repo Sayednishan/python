{
 "cells": [
  {
   "cell_type": "code",
   "execution_count": 192,
   "id": "296b3307",
   "metadata": {},
   "outputs": [
    {
     "name": "stdout",
     "output_type": "stream",
     "text": [
      "55\n"
     ]
    }
   ],
   "source": [
    "class Sum2():\n",
    "    integers=''\n",
    "    def __init__ (self,*integers):\n",
    "        self.integers=integers\n",
    "    def sum(self):\n",
    "        sum=0\n",
    "        for i in self.integers:\n",
    "            sum=sum+i\n",
    "        print(sum)\n",
    "Total=Sum2(1,2,3,4,5,6,7,8,9,10)\n",
    "Total.sum()"
   ]
  }
 ],
 "metadata": {
  "kernelspec": {
   "display_name": "Python 3 (ipykernel)",
   "language": "python",
   "name": "python3"
  },
  "language_info": {
   "codemirror_mode": {
    "name": "ipython",
    "version": 3
   },
   "file_extension": ".py",
   "mimetype": "text/x-python",
   "name": "python",
   "nbconvert_exporter": "python",
   "pygments_lexer": "ipython3",
   "version": "3.9.13"
  }
 },
 "nbformat": 4,
 "nbformat_minor": 5
}
