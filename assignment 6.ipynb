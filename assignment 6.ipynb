{
 "cells": [
  {
   "cell_type": "code",
   "execution_count": 1,
   "id": "466e6db1",
   "metadata": {},
   "outputs": [
    {
     "name": "stdout",
     "output_type": "stream",
     "text": [
      "4 5\n",
      "1 2 3 \n",
      "\n",
      "1 2 3 \n",
      "\n",
      "1 2 3 \n",
      "\n",
      "1 2 3 \n",
      "\n",
      "1 2 3 \n",
      "\n"
     ]
    }
   ],
   "source": [
    "n,m=map(int,input().split())\n",
    "for i in range(m):\n",
    "    for j in range(1,n):\n",
    "        print(j,end=' ')\n",
    "    print('\\n')"
   ]
  },
  {
   "cell_type": "code",
   "execution_count": 20,
   "id": "cd89f8cf",
   "metadata": {},
   "outputs": [
    {
     "name": "stdout",
     "output_type": "stream",
     "text": [
      "10\n",
      "1 2 3 4 "
     ]
    }
   ],
   "source": [
    "n=int(input())\n",
    "for i in range(1,n):\n",
    "    if i==5:\n",
    "        break\n",
    "    print(i,end=' ')"
   ]
  },
  {
   "cell_type": "code",
   "execution_count": 25,
   "id": "99a2045a",
   "metadata": {},
   "outputs": [
    {
     "name": "stdout",
     "output_type": "stream",
     "text": [
      "p y t h n "
     ]
    }
   ],
   "source": [
    "for i in 'python':\n",
    "    if i=='o':\n",
    "        pass\n",
    "    else:\n",
    "        print(i,end=' ')"
   ]
  },
  {
   "cell_type": "code",
   "execution_count": 31,
   "id": "8c61d816",
   "metadata": {},
   "outputs": [
    {
     "name": "stdout",
     "output_type": "stream",
     "text": [
      "\n",
      "\n",
      "1 \n",
      "\n",
      "1 3 \n",
      "\n",
      "1 3 5 \n",
      "\n",
      "1 3 5 7 \n",
      "\n"
     ]
    }
   ],
   "source": [
    "for i in range(1,10,2):\n",
    "    for j in range(1,i,2):\n",
    "        print(j,end=' ')\n",
    "    print('\\n')"
   ]
  },
  {
   "cell_type": "code",
   "execution_count": 34,
   "id": "4139df4b",
   "metadata": {},
   "outputs": [
    {
     "name": "stdout",
     "output_type": "stream",
     "text": [
      "2 50\n",
      "2 3 5 7 11 13 17 19 23 29 31 37 41 43 47 "
     ]
    }
   ],
   "source": [
    "n,m=map(int,input().split())\n",
    "for i in range(n,m):\n",
    "    if i>1:\n",
    "        for j in range(2,i):\n",
    "            if i%j==0:\n",
    "                break\n",
    "        else:\n",
    "            print(i,end=' ')"
   ]
  },
  {
   "cell_type": "code",
   "execution_count": 37,
   "id": "d71cbea8",
   "metadata": {},
   "outputs": [
    {
     "name": "stdout",
     "output_type": "stream",
     "text": [
      "* * * * * * * * \n",
      "\n",
      "* * * * * * * \n",
      "\n",
      "* * * * * * \n",
      "\n",
      "* * * * * \n",
      "\n",
      "* * * * \n",
      "\n",
      "* * * \n",
      "\n",
      "* * \n",
      "\n",
      "* \n",
      "\n",
      "\n",
      "\n"
     ]
    }
   ],
   "source": [
    "for i in range(9,0,-1):\n",
    "    for j in range(1,i):\n",
    "        print('*',end=' ')\n",
    "    print('\\n')"
   ]
  },
  {
   "cell_type": "code",
   "execution_count": 40,
   "id": "9296dce5",
   "metadata": {},
   "outputs": [
    {
     "name": "stdout",
     "output_type": "stream",
     "text": [
      "3\n",
      "28\n"
     ]
    }
   ],
   "source": [
    "n=int(input())\n",
    "s=0\n",
    "ss=0\n",
    "for i in range(1,8):\n",
    "    for j in range(1,n):\n",
    "        if j%2==1:\n",
    "            s=j+s\n",
    "    ss=ss+s\n",
    "print(ss)"
   ]
  },
  {
   "cell_type": "code",
   "execution_count": 45,
   "id": "2e2b5b9c",
   "metadata": {},
   "outputs": [
    {
     "name": "stdout",
     "output_type": "stream",
     "text": [
      "9\n",
      "        \n",
      "\n",
      "       * \n",
      "\n",
      "      * * \n",
      "\n",
      "     * * * \n",
      "\n",
      "    * * * * \n",
      "\n",
      "   * * * * * \n",
      "\n",
      "  * * * * * * \n",
      "\n",
      " * * * * * * * \n",
      "\n",
      "* * * * * * * * \n",
      "\n"
     ]
    }
   ],
   "source": [
    "n=int(input())\n",
    "for i in range(1,n+1,1):\n",
    "    print(' '*(n-i),end='')\n",
    "    for j in range(1,i):\n",
    "        print('*',end=' ')\n",
    "    print('\\n')"
   ]
  },
  {
   "cell_type": "code",
   "execution_count": 56,
   "id": "d22d4f0f",
   "metadata": {},
   "outputs": [
    {
     "name": "stdout",
     "output_type": "stream",
     "text": [
      "3\n",
      "1\n"
     ]
    }
   ],
   "source": [
    "test=int(input())\n",
    "n1=0\n",
    "n2=1\n",
    "for i in range(2,test):\n",
    "    fabb=n1+n2\n",
    "    n1=n2\n",
    "    n2=fabb\n",
    "print(fabb)\n"
   ]
  },
  {
   "cell_type": "code",
   "execution_count": 58,
   "id": "154eb6b2",
   "metadata": {},
   "outputs": [
    {
     "name": "stdout",
     "output_type": "stream",
     "text": [
      "1 \n",
      "\n",
      "2 2 \n",
      "\n",
      "3 3 3 \n",
      "\n",
      "4 4 4 4 \n",
      "\n",
      "5 5 5 5 5 \n",
      "\n",
      "6 6 6 6 6 6 \n",
      "\n"
     ]
    }
   ],
   "source": [
    "for i in range(1,7):\n",
    "    for j in range(1,i+1):\n",
    "        print(i,end=' ')\n",
    "    print('\\n')"
   ]
  },
  {
   "cell_type": "code",
   "execution_count": null,
   "id": "0c263f5d",
   "metadata": {},
   "outputs": [],
   "source": []
  }
 ],
 "metadata": {
  "kernelspec": {
   "display_name": "Python 3 (ipykernel)",
   "language": "python",
   "name": "python3"
  },
  "language_info": {
   "codemirror_mode": {
    "name": "ipython",
    "version": 3
   },
   "file_extension": ".py",
   "mimetype": "text/x-python",
   "name": "python",
   "nbconvert_exporter": "python",
   "pygments_lexer": "ipython3",
   "version": "3.9.13"
  }
 },
 "nbformat": 4,
 "nbformat_minor": 5
}
