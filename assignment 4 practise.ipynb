{
 "cells": [
  {
   "cell_type": "code",
   "execution_count": 3,
   "id": "fd702643",
   "metadata": {},
   "outputs": [
    {
     "name": "stdout",
     "output_type": "stream",
     "text": [
      "Nishan\n",
      "You are false\n"
     ]
    }
   ],
   "source": [
    "str1=input()\n",
    "if(str1=='python'):\n",
    "    print('Input is python')\n",
    "else:\n",
    "    print('You are false')"
   ]
  },
  {
   "cell_type": "code",
   "execution_count": 4,
   "id": "415b4b9d",
   "metadata": {},
   "outputs": [
    {
     "name": "stdout",
     "output_type": "stream",
     "text": [
      "14 15\n",
      "b is large\n"
     ]
    }
   ],
   "source": [
    "a,b=map(int,input().split())\n",
    "if(a>b):\n",
    "    print('a is greater than b')\n",
    "else:\n",
    "    print('b is large')"
   ]
  },
  {
   "cell_type": "code",
   "execution_count": 2,
   "id": "e750a0d9",
   "metadata": {},
   "outputs": [
    {
     "ename": "SyntaxError",
     "evalue": "invalid syntax (3257991388.py, line 8)",
     "output_type": "error",
     "traceback": [
      "\u001b[1;36m  File \u001b[1;32m\"C:\\Users\\USER\\AppData\\Local\\Temp\\ipykernel_1256\\3257991388.py\"\u001b[1;36m, line \u001b[1;32m8\u001b[0m\n\u001b[1;33m    else:\u001b[0m\n\u001b[1;37m    ^\u001b[0m\n\u001b[1;31mSyntaxError\u001b[0m\u001b[1;31m:\u001b[0m invalid syntax\n"
     ]
    }
   ],
   "source": [
    "a,b,c=map(int,input().split())\n",
    "if(a>b):\n",
    "    if(a>c):\n",
    "        print('a is large')\n",
    "else:\n",
    "    if(b>c>a):\n",
    "        print('b is large')\n",
    "else:\n",
    "    print('c is large')"
   ]
  },
  {
   "cell_type": "code",
   "execution_count": 1,
   "id": "06732b1d",
   "metadata": {},
   "outputs": [
    {
     "name": "stdout",
     "output_type": "stream",
     "text": [
      "c\n",
      "c\n"
     ]
    }
   ],
   "source": [
    "choice=input()\n",
    "if choice== 'a':\n",
    "    print('a')\n",
    "elif choice=='b':\n",
    "    print('b')\n",
    "else:\n",
    "    print('c')"
   ]
  },
  {
   "cell_type": "code",
   "execution_count": 3,
   "id": "c5cfa7a7",
   "metadata": {},
   "outputs": [
    {
     "name": "stdout",
     "output_type": "stream",
     "text": [
      "-10\n",
      "negative\n"
     ]
    }
   ],
   "source": [
    "num=int(input())\n",
    "if num>=0:\n",
    "    if num==0:\n",
    "        print('zero')\n",
    "    else:\n",
    "        print('positive')\n",
    "else:\n",
    "    print('negative')"
   ]
  },
  {
   "cell_type": "code",
   "execution_count": 5,
   "id": "49483507",
   "metadata": {},
   "outputs": [
    {
     "name": "stdout",
     "output_type": "stream",
     "text": [
      "12 13 14\n",
      "c is large\n"
     ]
    }
   ],
   "source": [
    "a,b,c=map(int,input().split())\n",
    "if a>b and a>c:\n",
    "    print('a is large')\n",
    "elif b>a and b>c:\n",
    "    print('b is large')\n",
    "        \n",
    "else:\n",
    "    print('c is large')"
   ]
  },
  {
   "cell_type": "code",
   "execution_count": 15,
   "id": "1d174355",
   "metadata": {},
   "outputs": [
    {
     "name": "stdout",
     "output_type": "stream",
     "text": [
      "12 14 16\n",
      "a even\n"
     ]
    }
   ],
   "source": [
    "a,b,c=map(int,input().split())\n",
    "if(a%2==0):\n",
    "    print('a even')\n",
    "elif(b%2==0):\n",
    "    print('b is even')\n",
    "elif(c%2==0):\n",
    "    print('c is even')\n",
    "else:\n",
    "    print('odd')\n",
    "    "
   ]
  },
  {
   "cell_type": "code",
   "execution_count": null,
   "id": "7cad681d",
   "metadata": {},
   "outputs": [],
   "source": []
  }
 ],
 "metadata": {
  "kernelspec": {
   "display_name": "Python 3 (ipykernel)",
   "language": "python",
   "name": "python3"
  },
  "language_info": {
   "codemirror_mode": {
    "name": "ipython",
    "version": 3
   },
   "file_extension": ".py",
   "mimetype": "text/x-python",
   "name": "python",
   "nbconvert_exporter": "python",
   "pygments_lexer": "ipython3",
   "version": "3.9.13"
  }
 },
 "nbformat": 4,
 "nbformat_minor": 5
}
