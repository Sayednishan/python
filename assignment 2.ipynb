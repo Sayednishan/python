{
 "cells": [
  {
   "cell_type": "code",
   "execution_count": 1,
   "id": "d044cbbc-6762-4fd5-aa12-f6d96685094a",
   "metadata": {},
   "outputs": [
    {
     "name": "stdin",
     "output_type": "stream",
     "text": [
      "Taken three number: 3 3 3\n"
     ]
    },
    {
     "name": "stdout",
     "output_type": "stream",
     "text": [
      "The sum of 3 and 3 and 3 is 9\n"
     ]
    }
   ],
   "source": [
    "a,b,c=map(int,input('Taken three number:').split())\n",
    "print('The sum of %d and %d and %d is %d'%(a,b,c,a+b+c))"
   ]
  },
  {
   "cell_type": "code",
   "execution_count": 5,
   "id": "f37af9b2-b383-41fb-bdde-0fdbaeea468c",
   "metadata": {},
   "outputs": [
    {
     "name": "stdin",
     "output_type": "stream",
     "text": [
      "The radius of the circle is:  12\n"
     ]
    },
    {
     "name": "stdout",
     "output_type": "stream",
     "text": [
      "The area of the circle is 452.390\n"
     ]
    }
   ],
   "source": [
    "r=float(input('The radius of the circle is: '))\n",
    "area=3.1416*r*r\n",
    "print('The area of the circle is %.3f'%area)"
   ]
  },
  {
   "cell_type": "code",
   "execution_count": 6,
   "id": "ee746e5d-c3ff-4853-9ad5-0ba00d03a34d",
   "metadata": {},
   "outputs": [
    {
     "name": "stdin",
     "output_type": "stream",
     "text": [
      "Taken two number: 12 12\n"
     ]
    },
    {
     "name": "stdout",
     "output_type": "stream",
     "text": [
      "The add of 12 and 12 is 24\n",
      "The sub of 12 and 12 is 0\n",
      "The mul of 12 and 12 is 144\n",
      "The div of 12 and 12 is 1\n"
     ]
    }
   ],
   "source": [
    "a,b=map(int,input('Taken two number:').split())\n",
    "print('The add of %d and %d is %d'%(a,b,a+b))\n",
    "print('The sub of %d and %d is %d'%(a,b,a-b))\n",
    "print('The mul of %d and %d is %d'%(a,b,a*b))\n",
    "print('The div of %d and %d is %d'%(a,b,a/b))"
   ]
  },
  {
   "cell_type": "code",
   "execution_count": 7,
   "id": "c2a10b7c-4941-4460-a61b-94693534ed97",
   "metadata": {},
   "outputs": [
    {
     "name": "stdin",
     "output_type": "stream",
     "text": [
      "Taken three float number: 2.3 2.3 4.5\n"
     ]
    },
    {
     "name": "stdout",
     "output_type": "stream",
     "text": [
      "The average of 2 and 2 and 4 is 3\n"
     ]
    }
   ],
   "source": [
    "a,b,c=map(float,input('Taken three float number:').split())\n",
    "average=(a+b+c)/3\n",
    "print('The average of %.2f and %.2f and %.2f is %.2f'%(a,b,c,average))"
   ]
  },
  {
   "cell_type": "code",
   "execution_count": 9,
   "id": "0b38ca4b-bca0-4ced-a1f1-376d922dae2a",
   "metadata": {},
   "outputs": [
    {
     "name": "stdin",
     "output_type": "stream",
     "text": [
      "Taken three integer number: 12 12 12\n",
      "Taken three float number: 3.4 3.4 3.4\n"
     ]
    },
    {
     "name": "stdout",
     "output_type": "stream",
     "text": [
      "25.8\n"
     ]
    }
   ],
   "source": [
    "a,b,c=map(int,input('Taken three integer number:').split())\n",
    "d,e,f=map(float,input('Taken three float number:').split())\n",
    "d=(a+b+c)-(d+e+f)\n",
    "print(d)"
   ]
  },
  {
   "cell_type": "code",
   "execution_count": 1,
   "id": "862db533-07b4-4539-addd-492cdf0ad115",
   "metadata": {},
   "outputs": [
    {
     "name": "stdout",
     "output_type": "stream",
     "text": [
      "Taken three input: sayed Newaj Chowdhhury \n",
      "sayed Newaj Chowdhhury\n"
     ]
    }
   ],
   "source": [
    "a,b,c=input('Taken three input: ').split()\n",
    "print(a,b,c)"
   ]
  },
  {
   "cell_type": "code",
   "execution_count": 2,
   "id": "b5565325",
   "metadata": {},
   "outputs": [
    {
     "name": "stdout",
     "output_type": "stream",
     "text": [
      "Sayed Newaj Chowdhury\n",
      "SayedNewajChowdhury\n"
     ]
    }
   ],
   "source": [
    "a,b,c=input().split()\n",
    "sentence=a+b+c\n",
    "print(sentence)"
   ]
  },
  {
   "cell_type": "code",
   "execution_count": 3,
   "id": "14187d7a",
   "metadata": {},
   "outputs": [
    {
     "name": "stdout",
     "output_type": "stream",
     "text": [
      "3 3\n",
      "<class 'str'>\n",
      "<class 'str'>\n",
      "<class 'int'>\n",
      "<class 'int'>\n",
      "The sum of 3 and 3 is 6\n",
      "<class 'str'>\n"
     ]
    }
   ],
   "source": [
    "a,b=input().split()\n",
    "print(type(a))\n",
    "print(type(b))\n",
    "a=int(a)\n",
    "b=int(b)\n",
    "print(type(a))\n",
    "print(type(b))\n",
    "sum=a+b\n",
    "print('The sum of %d and %d is %d'%(a,b,a+b))\n",
    "sum=str(sum)\n",
    "print(type(sum))"
   ]
  },
  {
   "cell_type": "code",
   "execution_count": 4,
   "id": "284c1a42",
   "metadata": {},
   "outputs": [
    {
     "name": "stdout",
     "output_type": "stream",
     "text": [
      " \"Honesty is the best policy\" \n"
     ]
    }
   ],
   "source": [
    "print(' \"Honesty is the best policy\" ')"
   ]
  },
  {
   "cell_type": "code",
   "execution_count": 5,
   "id": "c43b24cc",
   "metadata": {},
   "outputs": [
    {
     "name": "stdout",
     "output_type": "stream",
     "text": [
      "\"i like 'fish' and 'egg' but i haven't money to buy. \" \n"
     ]
    }
   ],
   "source": [
    "print('\"i like \\'fish\\' and \\'egg\\' but i haven\\'t money to buy. \" ')"
   ]
  },
  {
   "cell_type": "code",
   "execution_count": null,
   "id": "e3caf471",
   "metadata": {},
   "outputs": [],
   "source": []
  }
 ],
 "metadata": {
  "kernelspec": {
   "display_name": "Python 3 (ipykernel)",
   "language": "python",
   "name": "python3"
  },
  "language_info": {
   "codemirror_mode": {
    "name": "ipython",
    "version": 3
   },
   "file_extension": ".py",
   "mimetype": "text/x-python",
   "name": "python",
   "nbconvert_exporter": "python",
   "pygments_lexer": "ipython3",
   "version": "3.9.13"
  }
 },
 "nbformat": 4,
 "nbformat_minor": 5
}
