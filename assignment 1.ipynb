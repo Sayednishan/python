{
 "cells": [
  {
   "cell_type": "code",
   "execution_count": 1,
   "id": "97339b4c",
   "metadata": {},
   "outputs": [
    {
     "name": "stdout",
     "output_type": "stream",
     "text": [
      "Hello world\n"
     ]
    }
   ],
   "source": [
    "print('Hello world')"
   ]
  },
  {
   "cell_type": "code",
   "execution_count": 2,
   "id": "02f36d44",
   "metadata": {},
   "outputs": [
    {
     "name": "stdout",
     "output_type": "stream",
     "text": [
      "Nishan\n",
      "My name is Nishan\n"
     ]
    }
   ],
   "source": [
    "name=input()\n",
    "print('My name is',name)"
   ]
  },
  {
   "cell_type": "code",
   "execution_count": 3,
   "id": "4e4a62e8",
   "metadata": {},
   "outputs": [
    {
     "name": "stdout",
     "output_type": "stream",
     "text": [
      "Sayed newaj chowdhury Nishan\n"
     ]
    }
   ],
   "source": [
    "print('Sayed newaj chowdhury Nishan')"
   ]
  },
  {
   "cell_type": "code",
   "execution_count": 6,
   "id": "0bab1612",
   "metadata": {},
   "outputs": [
    {
     "name": "stdout",
     "output_type": "stream",
     "text": [
      "two number25 15\n",
      "25 15 "
     ]
    }
   ],
   "source": [
    "a,b=map(int,input('two number').split())\n",
    "print(a,b,end=' ')"
   ]
  },
  {
   "cell_type": "code",
   "execution_count": 7,
   "id": "28434d7f",
   "metadata": {},
   "outputs": [
    {
     "name": "stdout",
     "output_type": "stream",
     "text": [
      "15\n",
      "25\n"
     ]
    }
   ],
   "source": [
    "A=15\n",
    "B=25\n",
    "print(A)\n",
    "print(B)"
   ]
  },
  {
   "cell_type": "code",
   "execution_count": 6,
   "id": "3b811504",
   "metadata": {},
   "outputs": [
    {
     "name": "stdout",
     "output_type": "stream",
     "text": [
      "15     25\n"
     ]
    }
   ],
   "source": [
    "A=15\n",
    "B=25\n",
    "print(A,end='     ')\n",
    "print(B)"
   ]
  },
  {
   "cell_type": "code",
   "execution_count": 7,
   "id": "acda7ebb",
   "metadata": {},
   "outputs": [
    {
     "name": "stdout",
     "output_type": "stream",
     "text": [
      "Take three number4 5 6 \n",
      "4This is one5This is two6This is three"
     ]
    }
   ],
   "source": [
    "a,b,c=map(int,input('Take three number').split())\n",
    "print(a,end='This is one')\n",
    "print(b,end='This is two')\n",
    "print(c,end='This is three')"
   ]
  },
  {
   "cell_type": "code",
   "execution_count": 8,
   "id": "6fb7ee7f",
   "metadata": {},
   "outputs": [
    {
     "name": "stdout",
     "output_type": "stream",
     "text": [
      "Take three number4 5 6\n",
      "4 5 6\n"
     ]
    }
   ],
   "source": [
    "a,b,c=map(int,input('Take three number').split())\n",
    "print(a,b,c)"
   ]
  },
  {
   "cell_type": "code",
   "execution_count": 9,
   "id": "7e77d74a",
   "metadata": {},
   "outputs": [
    {
     "name": "stdout",
     "output_type": "stream",
     "text": [
      "find the multiplication of these number3 2\n",
      "6\n"
     ]
    }
   ],
   "source": [
    "a,b=map(int,input('find the multiplication of these number').split())\n",
    "mul=a*b\n",
    "print(mul)"
   ]
  },
  {
   "cell_type": "code",
   "execution_count": 10,
   "id": "7863e6e0",
   "metadata": {},
   "outputs": [
    {
     "name": "stdout",
     "output_type": "stream",
     "text": [
      "Two float number:2.5 3.4\n",
      "0.7352941176470589\n"
     ]
    }
   ],
   "source": [
    "a,b=map(float,input('Two float number:').split())\n",
    "div=a/b\n",
    "print(div)"
   ]
  },
  {
   "cell_type": "code",
   "execution_count": 12,
   "id": "b7f23bbe",
   "metadata": {},
   "outputs": [
    {
     "name": "stdout",
     "output_type": "stream",
     "text": [
      "Take two number:4 5\n",
      "<class 'int'>\n",
      "<class 'int'>\n"
     ]
    }
   ],
   "source": [
    "a,b=map(int,input('Take two number:').split())\n",
    "print(type(a))\n",
    "print(type(b))"
   ]
  },
  {
   "cell_type": "code",
   "execution_count": 17,
   "id": "8ce23a9a",
   "metadata": {},
   "outputs": [
    {
     "name": "stdout",
     "output_type": "stream",
     "text": [
      "<class 'int'>\n",
      "<class 'int'>\n",
      "12\n",
      "<class 'int'>\n"
     ]
    }
   ],
   "source": [
    "a=5\n",
    "b=7\n",
    "print(type(a))\n",
    "print(type(b))\n",
    "sum=a+b\n",
    "print(sum)\n",
    "print(type(sum))"
   ]
  },
  {
   "cell_type": "code",
   "execution_count": 19,
   "id": "e922c851",
   "metadata": {},
   "outputs": [
    {
     "name": "stdout",
     "output_type": "stream",
     "text": [
      "4.5 6.5\n",
      "<class 'float'>\n",
      "<class 'float'>\n"
     ]
    }
   ],
   "source": [
    "a,b=map(float,input().split())\n",
    "print(type(a))\n",
    "print(type(b))"
   ]
  },
  {
   "cell_type": "code",
   "execution_count": 20,
   "id": "7f9289ee",
   "metadata": {},
   "outputs": [
    {
     "name": "stdout",
     "output_type": "stream",
     "text": [
      "6.5 6.5\n",
      "The sum of the 6 and 6 is 13\n",
      "the sub of the 6 and 6 is 0\n",
      "the mul of the 6 and 6 is 42\n",
      "the div of the 6 and 6 is 1\n"
     ]
    }
   ],
   "source": [
    "a,b=map(float,input().split())\n",
    "add=a+b\n",
    "sub=a-b\n",
    "mul=a*b\n",
    "div=a/b\n",
    "print('The sum of the %d and %d is %d'%(a,b,a+b))\n",
    "print('the sub of the %d and %d is %d'%(a,b,a-b))\n",
    "print('the mul of the %d and %d is %d'%(a,b,a*b))\n",
    "print('the div of the %d and %d is %d'%(a,b,a/b))"
   ]
  },
  {
   "cell_type": "code",
   "execution_count": 21,
   "id": "b10346ff",
   "metadata": {},
   "outputs": [
    {
     "name": "stdout",
     "output_type": "stream",
     "text": [
      "Take three number:3 3 3\n",
      "3.0\n"
     ]
    }
   ],
   "source": [
    "a,b,c=map(int,input('Take three number:').split())\n",
    "avg=(a+b+c)/3\n",
    "print(avg)"
   ]
  },
  {
   "cell_type": "code",
   "execution_count": 22,
   "id": "242c79c6",
   "metadata": {},
   "outputs": [
    {
     "name": "stdout",
     "output_type": "stream",
     "text": [
      "Take three number:3 3 3\n",
      "3.0\n"
     ]
    }
   ],
   "source": [
    "a,b,c=map(int,input('Take three number:').split())\n",
    "sum=a+b+c\n",
    "avg=sum/3\n",
    "print(avg)"
   ]
  },
  {
   "cell_type": "code",
   "execution_count": 26,
   "id": "6f1fba77",
   "metadata": {},
   "outputs": [
    {
     "name": "stdout",
     "output_type": "stream",
     "text": [
      "<class 'float'>\n"
     ]
    }
   ],
   "source": [
    "num1=5.6\n",
    "print(type(num1))"
   ]
  },
  {
   "cell_type": "code",
   "execution_count": 28,
   "id": "c9483be8",
   "metadata": {},
   "outputs": [
    {
     "name": "stdout",
     "output_type": "stream",
     "text": [
      "3.4\n",
      "<class 'str'>\n",
      "<class 'float'>\n"
     ]
    }
   ],
   "source": [
    "num=input()\n",
    "print(type(num))\n",
    "num1=float(num)\n",
    "print(type(num1))"
   ]
  },
  {
   "cell_type": "code",
   "execution_count": 30,
   "id": "55dbc56a",
   "metadata": {},
   "outputs": [
    {
     "name": "stdout",
     "output_type": "stream",
     "text": [
      "0.5666666666666667\n"
     ]
    }
   ],
   "source": [
    "a=3.4\n",
    "b=6\n",
    "div=a/b\n",
    "print(div)"
   ]
  },
  {
   "cell_type": "code",
   "execution_count": 31,
   "id": "85fb8ec3",
   "metadata": {},
   "outputs": [
    {
     "name": "stdout",
     "output_type": "stream",
     "text": [
      "take two number:3 3\n",
      "<class 'int'>\n",
      "<class 'int'>\n",
      "<class 'int'>\n",
      "<class 'int'>\n",
      "6\n"
     ]
    }
   ],
   "source": [
    "a,b=map(int,input('take two number:').split())\n",
    "print(type(a))\n",
    "print(type(b))\n",
    "a=int(a)\n",
    "b=int(b)\n",
    "print(type(a))\n",
    "print(type(b))\n",
    "sum=a+b\n",
    "print(sum)"
   ]
  },
  {
   "cell_type": "code",
   "execution_count": 33,
   "id": "436eefea",
   "metadata": {},
   "outputs": [
    {
     "name": "stdout",
     "output_type": "stream",
     "text": [
      "<class 'str'>\n",
      "<class 'str'>\n",
      "<class 'int'>\n",
      "<class 'int'>\n",
      "12\n"
     ]
    }
   ],
   "source": [
    "a='6'\n",
    "b='6'\n",
    "print(type(a))\n",
    "print(type(b))\n",
    "a=int(a)\n",
    "b=int(b)\n",
    "print(type(a))\n",
    "print(type(b))\n",
    "sum=a+b\n",
    "print(sum)"
   ]
  },
  {
   "cell_type": "code",
   "execution_count": null,
   "id": "95eff403",
   "metadata": {},
   "outputs": [],
   "source": []
  }
 ],
 "metadata": {
  "kernelspec": {
   "display_name": "Python 3 (ipykernel)",
   "language": "python",
   "name": "python3"
  },
  "language_info": {
   "codemirror_mode": {
    "name": "ipython",
    "version": 3
   },
   "file_extension": ".py",
   "mimetype": "text/x-python",
   "name": "python",
   "nbconvert_exporter": "python",
   "pygments_lexer": "ipython3",
   "version": "3.9.12"
  }
 },
 "nbformat": 4,
 "nbformat_minor": 5
}
