{
 "cells": [
  {
   "cell_type": "code",
   "execution_count": 1,
   "id": "4522c117",
   "metadata": {},
   "outputs": [
    {
     "name": "stdout",
     "output_type": "stream",
     "text": [
      "[1, 2, 3, 4, 5, 6, 7, 8]\n"
     ]
    }
   ],
   "source": [
    "lst1=[1,2,3,4]\n",
    "lst2=[5,6,7,8]\n",
    "lst=lst1+lst2\n",
    "print(lst)"
   ]
  },
  {
   "cell_type": "code",
   "execution_count": 2,
   "id": "b134e9c5",
   "metadata": {},
   "outputs": [
    {
     "name": "stdout",
     "output_type": "stream",
     "text": [
      "[[1, 2, 3, 4]]\n"
     ]
    }
   ],
   "source": [
    "lst1=[1,2,3,4]\n",
    "lst2=[5,6,7,8]\n",
    "lst=[]\n",
    "lst.append(lst1)\n",
    "print(lst)"
   ]
  },
  {
   "cell_type": "code",
   "execution_count": 3,
   "id": "02016db5",
   "metadata": {},
   "outputs": [
    {
     "name": "stdout",
     "output_type": "stream",
     "text": [
      "[[1, 2, 3, 4], [5, 6, 7, 8]]\n"
     ]
    }
   ],
   "source": [
    "lst.append(lst2)\n",
    "print(lst)"
   ]
  },
  {
   "cell_type": "code",
   "execution_count": 5,
   "id": "8fbb010c",
   "metadata": {},
   "outputs": [
    {
     "name": "stdout",
     "output_type": "stream",
     "text": [
      "[1, 2, 3, 4]\n",
      "4\n"
     ]
    }
   ],
   "source": [
    "lst1=[1,2,3,4]\n",
    "print(lst1)\n",
    "print(max(lst1))"
   ]
  },
  {
   "cell_type": "code",
   "execution_count": 6,
   "id": "8fe7076d",
   "metadata": {},
   "outputs": [
    {
     "name": "stdout",
     "output_type": "stream",
     "text": [
      "10\n"
     ]
    }
   ],
   "source": [
    "lst1=[1,2,3,4]\n",
    "print(sum(lst1))"
   ]
  },
  {
   "cell_type": "code",
   "execution_count": 23,
   "id": "70cf7617",
   "metadata": {},
   "outputs": [
    {
     "name": "stdout",
     "output_type": "stream",
     "text": [
      "10\n"
     ]
    }
   ],
   "source": [
    "total=0\n",
    "lst1=[1,2,3,4]\n",
    "for i in range(1,len(lst1)+1):\n",
    "    total=total+i\n",
    "print(total)\n",
    "\n"
   ]
  },
  {
   "cell_type": "code",
   "execution_count": 8,
   "id": "45126f42",
   "metadata": {},
   "outputs": [
    {
     "name": "stdout",
     "output_type": "stream",
     "text": [
      "['Green', 'White', 'Black']\n"
     ]
    }
   ],
   "source": [
    "List=['Red', 'Green', 'White', 'Black', 'Pink', 'Yellow']\n",
    "print(List[1:4])"
   ]
  },
  {
   "cell_type": "code",
   "execution_count": 14,
   "id": "6dc09604",
   "metadata": {},
   "outputs": [
    {
     "name": "stdout",
     "output_type": "stream",
     "text": [
      "[1, 2, 3, 4, 5, 6]\n",
      "[1, 2, 3, 4, 5, 6, 10]\n",
      "(1, 2, 3, 4, 5, 6, 10)\n"
     ]
    }
   ],
   "source": [
    "tple1=(1,2,3,4,5,6)\n",
    "tple=list(tple1)\n",
    "print(tple)\n",
    "tple.append(10)\n",
    "print(tple)\n",
    "tple1=tuple(tple)\n",
    "print(tple1)"
   ]
  },
  {
   "cell_type": "code",
   "execution_count": 18,
   "id": "d7c12887",
   "metadata": {},
   "outputs": [
    {
     "name": "stdout",
     "output_type": "stream",
     "text": [
      "[1, 2, 3, 4]\n",
      "[4, 3, 2, 1]\n"
     ]
    }
   ],
   "source": [
    "tple=(1,2,3,4)\n",
    "tpl=list(tple)\n",
    "print(tpl)\n",
    "tpl.reverse()\n",
    "print(tpl)"
   ]
  },
  {
   "cell_type": "code",
   "execution_count": 24,
   "id": "21fd49b1",
   "metadata": {},
   "outputs": [
    {
     "name": "stdout",
     "output_type": "stream",
     "text": [
      "1 3 4 5 6 "
     ]
    }
   ],
   "source": [
    "set={1,2,3,4,5,6}\n",
    "for i in set:\n",
    "    if i ==2:\n",
    "        pass\n",
    "    else:\n",
    "        print(i,end=' ')"
   ]
  },
  {
   "cell_type": "code",
   "execution_count": 31,
   "id": "9a7bb99a",
   "metadata": {},
   "outputs": [
    {
     "name": "stdout",
     "output_type": "stream",
     "text": [
      "5\n",
      "{1, 2, 3, 4, 6}\n"
     ]
    }
   ],
   "source": [
    "set={1,2,3,4,5,6}\n",
    "a=int(input())\n",
    "for i in lst:\n",
    "    if a==i:\n",
    "        set.remove(a)\n",
    "        print(set)"
   ]
  },
  {
   "cell_type": "code",
   "execution_count": 33,
   "id": "5c112515",
   "metadata": {},
   "outputs": [
    {
     "name": "stdout",
     "output_type": "stream",
     "text": [
      "6\n",
      "1\n"
     ]
    }
   ],
   "source": [
    "set={1,2,3,4,5,6}\n",
    "print(max(set))\n",
    "print(min(set))"
   ]
  },
  {
   "cell_type": "code",
   "execution_count": 40,
   "id": "72c2e582",
   "metadata": {},
   "outputs": [
    {
     "name": "stdout",
     "output_type": "stream",
     "text": [
      "{'name': 'Sayed Newaj', 'Age': 24, 'Occupation': 'Reseracher', 'Varsity': 'Bsmrstu', 'Location': 'Gopalganj', 'Sex': 'Male'}\n"
     ]
    }
   ],
   "source": [
    "dic1={\n",
    "    'name':'Sayed Newaj',\n",
    "    'Age':24,\n",
    "    'Occupation':'Reseracher'\n",
    "}\n",
    "dic2={'Varsity':'Bsmrstu','Location':'Gopalganj','Sex':'Male',}\n",
    "newdic={**dic1,**dic2}\n",
    "print(newdic)"
   ]
  },
  {
   "cell_type": "code",
   "execution_count": 41,
   "id": "cf2503de",
   "metadata": {},
   "outputs": [
    {
     "name": "stdout",
     "output_type": "stream",
     "text": [
      "{'name': 'Sayed Newaj', 'Age': 24, 'Occupation': 'Reseracher', 'Varsity': 'Bsmrstu', 'Location': 'Gopalganj', 'Sex': 'Male'}\n"
     ]
    }
   ],
   "source": [
    "dic1={\n",
    "    'name':'Sayed Newaj',\n",
    "    'Age':24,\n",
    "    'Occupation':'Reseracher'\n",
    "}\n",
    "dic2={'Varsity':'Bsmrstu','Location':'Gopalganj','Sex':'Male',}\n",
    "newdic=dic1.copy()\n",
    "newdic.update(dic2)\n",
    "print(newdic)"
   ]
  },
  {
   "cell_type": "code",
   "execution_count": 47,
   "id": "8369960d",
   "metadata": {},
   "outputs": [
    {
     "name": "stdout",
     "output_type": "stream",
     "text": [
      "[('name', 'Sayed Newaj'), ('Age', 24), ('Occupation', 'Reseracher')]\n"
     ]
    }
   ],
   "source": [
    "dic={'name':'Sayed Newaj','Age':24,'Occupation':'Reseracher'}\n",
    "ndic=list(dic.items())\n",
    "print(ndic)"
   ]
  },
  {
   "cell_type": "code",
   "execution_count": null,
   "id": "3f8fc8d5",
   "metadata": {},
   "outputs": [],
   "source": []
  }
 ],
 "metadata": {
  "kernelspec": {
   "display_name": "Python 3 (ipykernel)",
   "language": "python",
   "name": "python3"
  },
  "language_info": {
   "codemirror_mode": {
    "name": "ipython",
    "version": 3
   },
   "file_extension": ".py",
   "mimetype": "text/x-python",
   "name": "python",
   "nbconvert_exporter": "python",
   "pygments_lexer": "ipython3",
   "version": "3.9.13"
  }
 },
 "nbformat": 4,
 "nbformat_minor": 5
}
