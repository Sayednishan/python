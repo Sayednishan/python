{
 "cells": [
  {
   "cell_type": "code",
   "execution_count": 4,
   "id": "76b7381c",
   "metadata": {},
   "outputs": [
    {
     "name": "stdout",
     "output_type": "stream",
     "text": [
      "12 4\n",
      "The sum of 12 and 4 is 16\n",
      "The sub of 12 and 4 is 8\n",
      "The mul of 12 and 4 is 48\n",
      "The div of 12 and 4 is 3\n"
     ]
    }
   ],
   "source": [
    "def fun():\n",
    "    a,b=map(int,input().split())\n",
    "    print('The sum of %d and %d is %d'%(a,b,a+b))\n",
    "    print('The sub of %d and %d is %d'%(a,b,a-b))\n",
    "    print('The mul of %d and %d is %d'%(a,b,a*b))\n",
    "    print('The div of %d and %d is %d'%(a,b,a/b))\n",
    "\n",
    "fun()\n"
   ]
  },
  {
   "cell_type": "code",
   "execution_count": 8,
   "id": "38bc05cf",
   "metadata": {},
   "outputs": [
    {
     "name": "stdout",
     "output_type": "stream",
     "text": [
      "1 2 3\n",
      "c is large\n"
     ]
    }
   ],
   "source": [
    "def fun(a,b,c):\n",
    "    if a>b and a>c:\n",
    "        print('a is large')\n",
    "    elif b>a and b>c:\n",
    "        print('b is large')\n",
    "    else:\n",
    "        print('c is large')\n",
    "a,b,c=map(int,input().split())\n",
    "fun(1,2,3)"
   ]
  },
  {
   "cell_type": "code",
   "execution_count": 14,
   "id": "fa4894b8",
   "metadata": {},
   "outputs": [
    {
     "name": "stdout",
     "output_type": "stream",
     "text": [
      "<built-in function sum>\n"
     ]
    },
    {
     "data": {
      "text/plain": [
       "55"
      ]
     },
     "execution_count": 14,
     "metadata": {},
     "output_type": "execute_result"
    }
   ],
   "source": [
    "def fun():\n",
    "    sum=0\n",
    "    lst=[1,2,3,4,5,6,7,8,9,10]\n",
    "    for i in range(0,len(lst)+1):\n",
    "        sum=sum+i\n",
    "    return(sum)\n",
    "print(sum) \n",
    "fun()\n",
    "    "
   ]
  },
  {
   "cell_type": "code",
   "execution_count": 20,
   "id": "aadf0a28",
   "metadata": {},
   "outputs": [
    {
     "name": "stdout",
     "output_type": "stream",
     "text": [
      "15\n",
      "not prime\n"
     ]
    }
   ],
   "source": [
    "def fun(a):\n",
    "    for i in range(2,100):\n",
    "        if a%i==0:\n",
    "            print('not prime')\n",
    "            break\n",
    "            \n",
    "    else:\n",
    "        print('prime')\n",
    "a=int(input())\n",
    "fun(15)\n",
    "        \n",
    "    "
   ]
  },
  {
   "cell_type": "code",
   "execution_count": 1,
   "id": "4ac3b052",
   "metadata": {},
   "outputs": [
    {
     "name": "stdout",
     "output_type": "stream",
     "text": [
      "45\n"
     ]
    }
   ],
   "source": [
    "def fun():\n",
    "    lst1=[1,2,3]\n",
    "    lst2=[4,5,6]\n",
    "    lst3=[7,8,9]\n",
    "    sum1=0\n",
    "    sum2=0\n",
    "    sum3=0\n",
    "    tot=0\n",
    "    for i in lst1:\n",
    "        sum1=sum1+i\n",
    "    for j in lst2:\n",
    "        sum2=sum2+j\n",
    "    for k in lst3:\n",
    "        sum3=sum3+k\n",
    "    tot=tot+sum1+sum2+sum3\n",
    "    print(tot)\n",
    "fun()"
   ]
  },
  {
   "cell_type": "code",
   "execution_count": 11,
   "id": "5b21cadb",
   "metadata": {},
   "outputs": [
    {
     "name": "stdout",
     "output_type": "stream",
     "text": [
      "yes\n"
     ]
    }
   ],
   "source": [
    "def fun():\n",
    "    str1='noon'\n",
    "    revers=(str1[::-1])\n",
    "    if str1==revers:\n",
    "        print('yes')\n",
    "    else:\n",
    "        print('no')\n",
    "fun()\n",
    "        "
   ]
  },
  {
   "cell_type": "code",
   "execution_count": 12,
   "id": "9f2e5391",
   "metadata": {},
   "outputs": [
    {
     "name": "stdout",
     "output_type": "stream",
     "text": [
      "3\n",
      "The factorial of 3 is 6\n"
     ]
    }
   ],
   "source": [
    "def fun(n):\n",
    "    fac=1\n",
    "    for i in range(n,0,-1):\n",
    "        fac=fac*i\n",
    "    print('The factorial of 3 is',fac)\n",
    "n=int(input())\n",
    "fun(n)"
   ]
  },
  {
   "cell_type": "code",
   "execution_count": 27,
   "id": "f3a152c2",
   "metadata": {},
   "outputs": [
    {
     "name": "stdout",
     "output_type": "stream",
     "text": [
      "name: Nishan\n",
      "salary: 24000\n"
     ]
    }
   ],
   "source": [
    "def showEmployee(**kwargs):\n",
    "    for key,value in kwargs.items():\n",
    "        print(key + ':',value)\n",
    "showEmployee(name='Nishan',salary='24000')\n",
    "\n",
    "    "
   ]
  },
  {
   "cell_type": "code",
   "execution_count": 54,
   "id": "43e353fd",
   "metadata": {},
   "outputs": [
    {
     "name": "stdout",
     "output_type": "stream",
     "text": [
      "10\n",
      "[1, 2, 3, 4, 5, 6, 7, 8, 9, 10]\n",
      "[2, 4, 6, 8, 10]\n",
      "[1, 3, 5, 7, 9]\n"
     ]
    }
   ],
   "source": [
    "def fun(a):\n",
    "    evnlist=[]\n",
    "    oddlist=[]\n",
    "    for i in a:\n",
    "        if i%2==0:\n",
    "            evnlist.append(i)\n",
    "        else:\n",
    "            oddlist.append(i)\n",
    "    print(evnlist)\n",
    "    print(oddlist)\n",
    "a=[]\n",
    "n=int(input())\n",
    "for k in range(1,n+1):\n",
    "    a.append(k)\n",
    "print(a)\n",
    "    \n",
    "fun(a)"
   ]
  },
  {
   "cell_type": "code",
   "execution_count": 59,
   "id": "f4fdb6f5",
   "metadata": {},
   "outputs": [
    {
     "name": "stdout",
     "output_type": "stream",
     "text": [
      "10\n"
     ]
    }
   ],
   "source": [
    "def fun(*args):\n",
    "    sum=0\n",
    "    for i in args:\n",
    "        sum=sum+i\n",
    "    print(sum)\n",
    "fun(1,2,3,4)"
   ]
  },
  {
   "cell_type": "code",
   "execution_count": 60,
   "id": "88c22282",
   "metadata": {},
   "outputs": [
    {
     "name": "stdout",
     "output_type": "stream",
     "text": [
      "name: nishan\n",
      "occupation: Researcher\n"
     ]
    }
   ],
   "source": [
    "def fun(**kwargs):\n",
    "    for key,value in kwargs.items():\n",
    "        print(key + ':',value)\n",
    "fun(name='nishan',occupation='Researcher')\n",
    "    "
   ]
  },
  {
   "cell_type": "code",
   "execution_count": null,
   "id": "f5300da0",
   "metadata": {},
   "outputs": [],
   "source": []
  }
 ],
 "metadata": {
  "kernelspec": {
   "display_name": "Python 3 (ipykernel)",
   "language": "python",
   "name": "python3"
  },
  "language_info": {
   "codemirror_mode": {
    "name": "ipython",
    "version": 3
   },
   "file_extension": ".py",
   "mimetype": "text/x-python",
   "name": "python",
   "nbconvert_exporter": "python",
   "pygments_lexer": "ipython3",
   "version": "3.9.13"
  }
 },
 "nbformat": 4,
 "nbformat_minor": 5
}
