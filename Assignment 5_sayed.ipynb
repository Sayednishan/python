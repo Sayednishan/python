{
 "cells": [
  {
   "cell_type": "code",
   "execution_count": 2,
   "id": "560cb616",
   "metadata": {},
   "outputs": [
    {
     "data": {
      "text/plain": [
       "array([[0.00091105, 0.01798621, 0.11920292, 0.00091105],\n",
       "       [0.00247262, 0.26894142, 0.00091105, 0.00247262],\n",
       "       [0.00247262, 0.01798621, 0.00247262, 0.26894142]])"
      ]
     },
     "execution_count": 2,
     "metadata": {},
     "output_type": "execute_result"
    }
   ],
   "source": [
    "import numpy as np\n",
    "def sigma(x):\n",
    "    '''\n",
    "    Python code to find Sigma Function\n",
    "    \n",
    "    Parameters\n",
    "    ----------\n",
    "    value:int\n",
    "        a int value\n",
    "        use exponential in this int  ##(np.exp(x))\n",
    "        and addition of this exponential answer with one\n",
    "        after this divide by 1.\n",
    "    Returns\n",
    "    -------\n",
    "    int\n",
    "    '''\n",
    "    expo= np.exp(x)\n",
    "    add_expo=1+expo\n",
    "    div_add_expo=1/(add_expo)\n",
    "    return div_add_expo\n",
    "x=np.random.randint(1,12,(3,4))\n",
    "sigma(x)"
   ]
  }
 ],
 "metadata": {
  "kernelspec": {
   "display_name": "Python 3 (ipykernel)",
   "language": "python",
   "name": "python3"
  },
  "language_info": {
   "codemirror_mode": {
    "name": "ipython",
    "version": 3
   },
   "file_extension": ".py",
   "mimetype": "text/x-python",
   "name": "python",
   "nbconvert_exporter": "python",
   "pygments_lexer": "ipython3",
   "version": "3.9.13"
  }
 },
 "nbformat": 4,
 "nbformat_minor": 5
}
