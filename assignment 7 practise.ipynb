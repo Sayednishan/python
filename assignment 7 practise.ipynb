{
 "cells": [
  {
   "cell_type": "code",
   "execution_count": 4,
   "id": "717291c7",
   "metadata": {},
   "outputs": [
    {
     "name": "stdout",
     "output_type": "stream",
     "text": [
      "<class 'list'>\n",
      "4\n",
      "2\n"
     ]
    }
   ],
   "source": [
    "lst=[1,2,3,4,5,6,7,8]\n",
    "print(type(lst))\n",
    "print(lst[3])\n",
    "print(lst.index(3))"
   ]
  },
  {
   "cell_type": "code",
   "execution_count": 2,
   "id": "f12fce4f",
   "metadata": {},
   "outputs": [
    {
     "name": "stdout",
     "output_type": "stream",
     "text": [
      "8\n"
     ]
    }
   ],
   "source": [
    "print(len(lst))"
   ]
  },
  {
   "cell_type": "code",
   "execution_count": 3,
   "id": "71797d21",
   "metadata": {},
   "outputs": [
    {
     "name": "stdout",
     "output_type": "stream",
     "text": [
      "[1, 2, 3, 4, 5, 6, 7, 8]\n"
     ]
    }
   ],
   "source": [
    "print(lst)"
   ]
  },
  {
   "cell_type": "code",
   "execution_count": 4,
   "id": "7dc5f1fe",
   "metadata": {},
   "outputs": [
    {
     "name": "stdout",
     "output_type": "stream",
     "text": [
      "5\n"
     ]
    }
   ],
   "source": [
    "print(lst[4])"
   ]
  },
  {
   "cell_type": "code",
   "execution_count": 7,
   "id": "8be10f1b",
   "metadata": {},
   "outputs": [
    {
     "name": "stdout",
     "output_type": "stream",
     "text": [
      "[2, 3, 4, 5]\n"
     ]
    }
   ],
   "source": [
    "print(lst[1:5])"
   ]
  },
  {
   "cell_type": "code",
   "execution_count": 8,
   "id": "003096b7",
   "metadata": {},
   "outputs": [
    {
     "name": "stdout",
     "output_type": "stream",
     "text": [
      "[1, 2, 3, 4, 5]\n"
     ]
    }
   ],
   "source": [
    "print(lst[:5])"
   ]
  },
  {
   "cell_type": "code",
   "execution_count": 9,
   "id": "838f1ffe",
   "metadata": {},
   "outputs": [
    {
     "name": "stdout",
     "output_type": "stream",
     "text": [
      "[6, 7, 8]\n"
     ]
    }
   ],
   "source": [
    "print(lst[5:])"
   ]
  },
  {
   "cell_type": "code",
   "execution_count": 10,
   "id": "238608df",
   "metadata": {},
   "outputs": [
    {
     "name": "stdout",
     "output_type": "stream",
     "text": [
      "[1, 2, 3, 4, 5, 6, 7, 8]\n"
     ]
    }
   ],
   "source": [
    "print(lst[:])"
   ]
  },
  {
   "cell_type": "code",
   "execution_count": 11,
   "id": "4b63b44b",
   "metadata": {},
   "outputs": [
    {
     "name": "stdout",
     "output_type": "stream",
     "text": [
      "[1, 2, 3, 4, 5, 6, 7, 8, 9]\n"
     ]
    }
   ],
   "source": [
    "lst.append(9)\n",
    "print(lst)"
   ]
  },
  {
   "cell_type": "code",
   "execution_count": 12,
   "id": "2dda5958",
   "metadata": {},
   "outputs": [
    {
     "name": "stdout",
     "output_type": "stream",
     "text": [
      "[1, 2, 3, 4, 5, 6, 7, 8, 9, [10, 11, 12]]\n"
     ]
    }
   ],
   "source": [
    "lst1=[10,11,12]\n",
    "lst.append(lst1)\n",
    "print(lst)"
   ]
  },
  {
   "cell_type": "code",
   "execution_count": 13,
   "id": "60071447",
   "metadata": {},
   "outputs": [
    {
     "name": "stdout",
     "output_type": "stream",
     "text": [
      "[1, 2, 3, 4, 5, 6, 7, 8, 9, [10, 11, 12], 10, 11, 12]\n"
     ]
    }
   ],
   "source": [
    "lst.extend(lst1)\n",
    "print(lst)"
   ]
  },
  {
   "cell_type": "code",
   "execution_count": 14,
   "id": "0051f792",
   "metadata": {},
   "outputs": [
    {
     "name": "stdout",
     "output_type": "stream",
     "text": [
      "[1, 2, 5, 3, 4, 5, 6, 7, 8, 9, [10, 11, 12], 10, 11, 12]\n"
     ]
    }
   ],
   "source": [
    "lst.insert(2,5)\n",
    "print(lst)"
   ]
  },
  {
   "cell_type": "code",
   "execution_count": 16,
   "id": "a2e31ed8",
   "metadata": {},
   "outputs": [
    {
     "name": "stdout",
     "output_type": "stream",
     "text": [
      "[1, 2, 3, 4, 5, 6, 7, 8, 9, [10, 11, 12], 10, 11, 12]\n"
     ]
    }
   ],
   "source": [
    "lst.remove(5)\n",
    "print(lst)"
   ]
  },
  {
   "cell_type": "code",
   "execution_count": 20,
   "id": "f0c8aa1e",
   "metadata": {},
   "outputs": [
    {
     "name": "stdout",
     "output_type": "stream",
     "text": [
      "[1, 2, 3, 4, 5, 6, 7, 8, 9]\n"
     ]
    }
   ],
   "source": [
    "lst.pop()\n",
    "print(lst)"
   ]
  },
  {
   "cell_type": "code",
   "execution_count": 21,
   "id": "c1bd93b3",
   "metadata": {},
   "outputs": [
    {
     "name": "stdout",
     "output_type": "stream",
     "text": [
      "[9, 8, 7, 6, 5, 4, 3, 2, 1]\n"
     ]
    }
   ],
   "source": [
    "lst.reverse()\n",
    "print(lst)"
   ]
  },
  {
   "cell_type": "code",
   "execution_count": 22,
   "id": "29ebb73a",
   "metadata": {},
   "outputs": [
    {
     "name": "stdout",
     "output_type": "stream",
     "text": [
      "[1, 2, 3, 4, 5, 6, 7, 8, 9]\n"
     ]
    }
   ],
   "source": [
    "lst.sort()\n",
    "print(lst)"
   ]
  },
  {
   "cell_type": "code",
   "execution_count": 23,
   "id": "7a841d3c",
   "metadata": {},
   "outputs": [
    {
     "name": "stdout",
     "output_type": "stream",
     "text": [
      "[9, 8, 7, 6, 5, 4, 3, 2, 1]\n"
     ]
    }
   ],
   "source": [
    "lst.sort(reverse=True)\n",
    "print(lst)"
   ]
  },
  {
   "cell_type": "code",
   "execution_count": 24,
   "id": "523da299",
   "metadata": {},
   "outputs": [
    {
     "name": "stdout",
     "output_type": "stream",
     "text": [
      "9\n"
     ]
    }
   ],
   "source": [
    "print(max(lst))"
   ]
  },
  {
   "cell_type": "code",
   "execution_count": 25,
   "id": "53677e3b",
   "metadata": {},
   "outputs": [
    {
     "data": {
      "text/plain": [
       "1"
      ]
     },
     "execution_count": 25,
     "metadata": {},
     "output_type": "execute_result"
    }
   ],
   "source": [
    "min(lst)"
   ]
  },
  {
   "cell_type": "code",
   "execution_count": 26,
   "id": "85ba17bf",
   "metadata": {},
   "outputs": [
    {
     "data": {
      "text/plain": [
       "9"
      ]
     },
     "execution_count": 26,
     "metadata": {},
     "output_type": "execute_result"
    }
   ],
   "source": [
    "max(lst)"
   ]
  },
  {
   "cell_type": "code",
   "execution_count": 27,
   "id": "984c7714",
   "metadata": {},
   "outputs": [
    {
     "data": {
      "text/plain": [
       "45"
      ]
     },
     "execution_count": 27,
     "metadata": {},
     "output_type": "execute_result"
    }
   ],
   "source": [
    "sum(lst)"
   ]
  },
  {
   "cell_type": "markdown",
   "id": "efb3dec8",
   "metadata": {},
   "source": [
    "# Tuple"
   ]
  },
  {
   "cell_type": "code",
   "execution_count": 28,
   "id": "01bb0d7e",
   "metadata": {},
   "outputs": [
    {
     "name": "stdout",
     "output_type": "stream",
     "text": [
      "(1, 2, 3, 4, 5, 6)\n"
     ]
    }
   ],
   "source": [
    "tple=(1,2,3,4,5,6)\n",
    "print(tple)"
   ]
  },
  {
   "cell_type": "code",
   "execution_count": 34,
   "id": "9a43240c",
   "metadata": {},
   "outputs": [
    {
     "name": "stdout",
     "output_type": "stream",
     "text": [
      "[1, 2, 3, 4, 5, 6, 7]\n",
      "<class 'tuple'>\n"
     ]
    }
   ],
   "source": [
    "tple1=list(tple)\n",
    "tple1.append(7)\n",
    "print(tple1)\n",
    "print(type(tple))\n",
    "tple2=tuple(tple1)\n"
   ]
  },
  {
   "cell_type": "markdown",
   "id": "86454dfc",
   "metadata": {},
   "source": [
    "# Set"
   ]
  },
  {
   "cell_type": "code",
   "execution_count": 35,
   "id": "3d559444",
   "metadata": {},
   "outputs": [
    {
     "name": "stdout",
     "output_type": "stream",
     "text": [
      "{1, 2, 3, 4, 5, 6, 7}\n"
     ]
    }
   ],
   "source": [
    "set1={1,2,3,4,5,6,7}\n",
    "print(set1)\n"
   ]
  },
  {
   "cell_type": "code",
   "execution_count": 36,
   "id": "5debee7f",
   "metadata": {},
   "outputs": [
    {
     "name": "stdout",
     "output_type": "stream",
     "text": [
      "{3, 4, 5, 6, 7, 8, 9, 10, 11}\n"
     ]
    }
   ],
   "source": [
    "set2={3,4,5,6,7,8,9,10,11}\n",
    "print(set2)"
   ]
  },
  {
   "cell_type": "code",
   "execution_count": 37,
   "id": "184eb467",
   "metadata": {},
   "outputs": [
    {
     "name": "stdout",
     "output_type": "stream",
     "text": [
      "{3, 4, 5, 6, 7}\n"
     ]
    }
   ],
   "source": [
    "print(set1.intersection(set2))"
   ]
  },
  {
   "cell_type": "code",
   "execution_count": 38,
   "id": "8a02db33",
   "metadata": {},
   "outputs": [
    {
     "name": "stdout",
     "output_type": "stream",
     "text": [
      "{1, 2, 3, 4, 5, 6, 7, 8, 9, 10, 11}\n"
     ]
    }
   ],
   "source": [
    "print(set1.union(set2)) "
   ]
  },
  {
   "cell_type": "code",
   "execution_count": 39,
   "id": "59e0c3c7",
   "metadata": {},
   "outputs": [
    {
     "name": "stdout",
     "output_type": "stream",
     "text": [
      "{1, 2}\n"
     ]
    }
   ],
   "source": [
    "print(set1.difference(set2))"
   ]
  },
  {
   "cell_type": "code",
   "execution_count": 42,
   "id": "71533831",
   "metadata": {},
   "outputs": [
    {
     "name": "stdout",
     "output_type": "stream",
     "text": [
      "{'name': 'nishan', 'roll': '18che001'}\n"
     ]
    }
   ],
   "source": [
    "dic={\n",
    "    'name':'nishan',\n",
    "    'roll':'18che001'\n",
    "}\n",
    "print(dic)"
   ]
  },
  {
   "cell_type": "code",
   "execution_count": 43,
   "id": "069cfbae",
   "metadata": {},
   "outputs": [
    {
     "name": "stdout",
     "output_type": "stream",
     "text": [
      "nishan\n"
     ]
    }
   ],
   "source": [
    "print(dic['name'])"
   ]
  },
  {
   "cell_type": "code",
   "execution_count": 44,
   "id": "7f2889c4",
   "metadata": {},
   "outputs": [
    {
     "name": "stdout",
     "output_type": "stream",
     "text": [
      "None\n"
     ]
    }
   ],
   "source": [
    "print(dic.get('phn'))"
   ]
  },
  {
   "cell_type": "code",
   "execution_count": 45,
   "id": "3d8b66c5",
   "metadata": {},
   "outputs": [
    {
     "name": "stdout",
     "output_type": "stream",
     "text": [
      "{'name': 'shushan', 'roll': '18che001'}\n"
     ]
    }
   ],
   "source": [
    "dic['name']='shushan'\n",
    "print(dic)\n"
   ]
  },
  {
   "cell_type": "code",
   "execution_count": 46,
   "id": "ef3ddb28",
   "metadata": {},
   "outputs": [
    {
     "name": "stdout",
     "output_type": "stream",
     "text": [
      "dict_keys(['name', 'roll'])\n"
     ]
    }
   ],
   "source": [
    "print(dic.keys())\n"
   ]
  },
  {
   "cell_type": "code",
   "execution_count": 47,
   "id": "b36bee12",
   "metadata": {},
   "outputs": [
    {
     "name": "stdout",
     "output_type": "stream",
     "text": [
      "dict_values(['shushan', '18che001'])\n"
     ]
    }
   ],
   "source": [
    "print(dic.values())"
   ]
  },
  {
   "cell_type": "code",
   "execution_count": 48,
   "id": "0f965ee6",
   "metadata": {},
   "outputs": [
    {
     "name": "stdout",
     "output_type": "stream",
     "text": [
      "dict_items([('name', 'shushan'), ('roll', '18che001')])\n"
     ]
    }
   ],
   "source": [
    "print(dic.items())"
   ]
  },
  {
   "cell_type": "code",
   "execution_count": 49,
   "id": "71c71130",
   "metadata": {},
   "outputs": [
    {
     "name": "stdout",
     "output_type": "stream",
     "text": [
      "{'name': 'shushan', 'roll': '18che001', 'phn': '01834600714'}\n"
     ]
    }
   ],
   "source": [
    "dic['phn']='01834600714'\n",
    "print(dic)"
   ]
  },
  {
   "cell_type": "code",
   "execution_count": 51,
   "id": "5a385a32",
   "metadata": {},
   "outputs": [
    {
     "name": "stdout",
     "output_type": "stream",
     "text": [
      "{'name': 'shushan', 'roll': '18che001', 'phn': '01834600714', 'code': '1100'}\n"
     ]
    }
   ],
   "source": [
    "b={'code':'1100'}\n",
    "dic.update(b)\n",
    "print(dic)"
   ]
  },
  {
   "cell_type": "code",
   "execution_count": 55,
   "id": "d49d49ca",
   "metadata": {},
   "outputs": [
    {
     "name": "stdout",
     "output_type": "stream",
     "text": [
      "chemistry\n"
     ]
    }
   ],
   "source": [
    "d={\n",
    "    'math':98 ,\n",
    "    'chemistry':67\n",
    "}\n",
    "print(min(d,key=d.get))"
   ]
  },
  {
   "cell_type": "code",
   "execution_count": 61,
   "id": "951a433f",
   "metadata": {},
   "outputs": [
    {
     "name": "stdout",
     "output_type": "stream",
     "text": [
      "98\n"
     ]
    }
   ],
   "source": [
    "print(d['math'])"
   ]
  },
  {
   "cell_type": "code",
   "execution_count": 66,
   "id": "4acb8793",
   "metadata": {},
   "outputs": [
    {
     "name": "stdout",
     "output_type": "stream",
     "text": [
      "{1: {'name': 'nishna', 'age': 24}, 2: {'name': 'shudhsn', 'age': 54}}\n"
     ]
    }
   ],
   "source": [
    "dic={ 1: {'name':'nishna','age':24},\n",
    "      2: {'name':'shudhsn','age':54}\n",
    "}\n",
    "print(dic)"
   ]
  },
  {
   "cell_type": "code",
   "execution_count": 67,
   "id": "67e1daaf",
   "metadata": {},
   "outputs": [
    {
     "name": "stdout",
     "output_type": "stream",
     "text": [
      "{'name': 'nishna', 'age': 24}\n"
     ]
    }
   ],
   "source": [
    "print(dic[1])"
   ]
  },
  {
   "cell_type": "code",
   "execution_count": 69,
   "id": "e8ae352e",
   "metadata": {},
   "outputs": [
    {
     "name": "stdout",
     "output_type": "stream",
     "text": [
      "nishna\n"
     ]
    }
   ],
   "source": [
    "print(dic[1]['name'])"
   ]
  },
  {
   "cell_type": "code",
   "execution_count": 70,
   "id": "b7425df0",
   "metadata": {},
   "outputs": [
    {
     "name": "stdout",
     "output_type": "stream",
     "text": [
      "{1: {'name': 'nishna', 'age': 24, 'sex': 'male'}, 2: {'name': 'shudhsn', 'age': 54}}\n"
     ]
    }
   ],
   "source": [
    "dic[1]['sex']='male'\n",
    "print(dic)"
   ]
  },
  {
   "cell_type": "code",
   "execution_count": 71,
   "id": "f8ab0d95",
   "metadata": {},
   "outputs": [
    {
     "name": "stdout",
     "output_type": "stream",
     "text": [
      "{1: {'name': 'nishna', 'age': 24, 'sex': 'male'}, 2: {'name': 'shudhsn', 'age': 54}, 3: {'name': 'shu', 'age': 54}}\n"
     ]
    }
   ],
   "source": [
    "dic[3]={'name':'shu','age':54}\n",
    "print(dic)"
   ]
  },
  {
   "cell_type": "code",
   "execution_count": 72,
   "id": "caec6339",
   "metadata": {},
   "outputs": [
    {
     "name": "stdout",
     "output_type": "stream",
     "text": [
      "{1: {'name': 'nishna', 'age': 24, 'sex': 'male'}, 3: {'name': 'shu', 'age': 54}}\n"
     ]
    }
   ],
   "source": [
    "del dic[2]\n",
    "print(dic)"
   ]
  },
  {
   "cell_type": "code",
   "execution_count": 73,
   "id": "21436581",
   "metadata": {},
   "outputs": [
    {
     "name": "stdout",
     "output_type": "stream",
     "text": [
      "{1: {'name': 'nishna', 'age': 24, 'sex': 'male'}, 3: {'name': 'shu', 'age': '26'}}\n"
     ]
    }
   ],
   "source": [
    "dic[3]['age']='26'\n",
    "print(dic)"
   ]
  },
  {
   "cell_type": "code",
   "execution_count": 75,
   "id": "7b787f9f",
   "metadata": {},
   "outputs": [
    {
     "name": "stdout",
     "output_type": "stream",
     "text": [
      "{'emp1': {'name': 'bob', 'job': 'mng'}, 'emp2': {'name': 'joj', 'job': 'gm'}, 'emp3': {'name': 'kok', 'job': 'md'}}\n"
     ]
    }
   ],
   "source": [
    "ids=['emp1','emp2','emp3']\n",
    "dic=[\n",
    "    {'name':'bob','job':'mng'},\n",
    "    {'name':'joj','job':'gm'},\n",
    "    {'name':'kok','job':'md'}\n",
    "    \n",
    "]\n",
    "dic=dict(zip(ids,dic))\n",
    "print(dic)"
   ]
  },
  {
   "cell_type": "code",
   "execution_count": 76,
   "id": "578b9e3c",
   "metadata": {},
   "outputs": [
    {
     "name": "stdout",
     "output_type": "stream",
     "text": [
      "{1: {'name': 'jish', 'job': 'eng'}, 2: {'name': 'joj', 'job': 'gm'}, 3: {'name': 'kok', 'job': 'md'}}\n"
     ]
    }
   ],
   "source": [
    "d={\n",
    "    1:{'name':'bob','job':'mng'},\n",
    "    2:{'name':'joj','job':'gm'},\n",
    "    3:{'name':'kok','job':'md'}\n",
    "}\n",
    "d[1]['name']='jish'\n",
    "d[1]['job']='eng'\n",
    "print(d)"
   ]
  },
  {
   "cell_type": "code",
   "execution_count": 78,
   "id": "29ec189e",
   "metadata": {},
   "outputs": [
    {
     "name": "stdout",
     "output_type": "stream",
     "text": [
      "{'name': 'joj', 'job': 'gm'}\n"
     ]
    }
   ],
   "source": [
    "d1={'name':'bob','job':'mng'}\n",
    "d2={'name':'joj','job':'gm'}\n",
    "d1.update(d2)\n",
    "print(d1)"
   ]
  },
  {
   "cell_type": "code",
   "execution_count": 79,
   "id": "83ea3ed7",
   "metadata": {},
   "outputs": [
    {
     "name": "stdout",
     "output_type": "stream",
     "text": [
      "\n",
      "emply 1\n",
      "name: bob\n",
      "job: mng\n",
      "\n",
      "emply 2\n",
      "name: joj\n",
      "job: gm\n",
      "\n",
      "emply 3\n",
      "name: kok\n",
      "job: md\n"
     ]
    }
   ],
   "source": [
    "d={\n",
    "    1:{'name':'bob','job':'mng'},\n",
    "    2:{'name':'joj','job':'gm'},\n",
    "    3:{'name':'kok','job':'md'}\n",
    "}\n",
    "for id,info in d.items():\n",
    "    print('\\nemply',id)\n",
    "    for key in info:\n",
    "        print(key + ':',info[key])"
   ]
  },
  {
   "cell_type": "code",
   "execution_count": 82,
   "id": "57877eb4",
   "metadata": {},
   "outputs": [
    {
     "name": "stdout",
     "output_type": "stream",
     "text": [
      "\n",
      "serial 1\n",
      "job: mng\n",
      "\n",
      "serial 2\n",
      "job: gm\n",
      "\n",
      "serial 3\n",
      "job: md\n"
     ]
    }
   ],
   "source": [
    "for id,info in d.items():\n",
    "    print('\\nserial',id)\n",
    "    print(key + ':',info[key])"
   ]
  },
  {
   "cell_type": "code",
   "execution_count": 1,
   "id": "c88bd60e",
   "metadata": {},
   "outputs": [
    {
     "name": "stdout",
     "output_type": "stream",
     "text": [
      "{'info1': {'Name': 'Jishan', 'age': 24, 'job': 'Doctor'}, 'info2': {'Name': 'Shushan', 'age': 23, 'job': 'Doctor'}, 'info3': {'Name': 'Nishan', 'age': 22, 'job': 'Researcher'}}\n"
     ]
    }
   ],
   "source": [
    "dic={\n",
    "    'info1':{'Name':'Jishan','age':24,'job':'Doctor'},\n",
    "    'info2':{'Name':'Shushan','age':23,'job':'Doctor'},\n",
    "    'info3':{'Name':'Nishan','age':22,'job':'Researcher'}\n",
    "}\n",
    "print(dic)"
   ]
  },
  {
   "cell_type": "code",
   "execution_count": 2,
   "id": "bcc314f9",
   "metadata": {},
   "outputs": [
    {
     "name": "stdout",
     "output_type": "stream",
     "text": [
      "\n",
      "serial info1\n",
      "Name: Jishan\n",
      "age: 24\n",
      "job: Doctor\n",
      "\n",
      "serial info2\n",
      "Name: Shushan\n",
      "age: 23\n",
      "job: Doctor\n",
      "\n",
      "serial info3\n",
      "Name: Nishan\n",
      "age: 22\n",
      "job: Researcher\n"
     ]
    }
   ],
   "source": [
    "for id, info in dic.items():\n",
    "    print('\\nserial',id)\n",
    "    for key in info:\n",
    "        print(key+':',info[key])"
   ]
  },
  {
   "cell_type": "code",
   "execution_count": 102,
   "id": "3cae1b16",
   "metadata": {},
   "outputs": [
    {
     "name": "stdout",
     "output_type": "stream",
     "text": [
      "\n",
      "serial info1\n",
      "job: Doctor\n",
      "\n",
      "serial info2\n",
      "job: Doctor\n",
      "\n",
      "serial info3\n",
      "job: Researcher\n"
     ]
    }
   ],
   "source": [
    "for id, info in dic.items():\n",
    "    print('\\nserial',id)\n",
    "    ##for key in info:\n",
    "    print(key + ':',info[key])"
   ]
  },
  {
   "cell_type": "code",
   "execution_count": 103,
   "id": "842b1509",
   "metadata": {},
   "outputs": [
    {
     "name": "stdout",
     "output_type": "stream",
     "text": [
      "dict_items([('info1', {'Name': 'Jishan', 'age': 24, 'job': 'Doctor'}), ('info2', {'Name': 'Shushan', 'age': 23, 'job': 'Doctor'}), ('info3', {'Name': 'Nishan', 'age': 22, 'job': 'Researcher'})])\n"
     ]
    }
   ],
   "source": [
    "print(dic.items())"
   ]
  },
  {
   "cell_type": "code",
   "execution_count": 106,
   "id": "05e9981f",
   "metadata": {},
   "outputs": [
    {
     "name": "stdout",
     "output_type": "stream",
     "text": [
      "{'name': 'Nishan', 'age': 24, 'job': 'researcher'}\n"
     ]
    }
   ],
   "source": [
    "dic={\n",
    "    'name':'Nishan',\n",
    "    'age':24,\n",
    "    'job':'researcher'\n",
    "}\n",
    "print(dic)"
   ]
  },
  {
   "cell_type": "code",
   "execution_count": 107,
   "id": "087f9665",
   "metadata": {},
   "outputs": [
    {
     "name": "stdout",
     "output_type": "stream",
     "text": [
      "{'name': 'Nishan', 'age': 24, 'job': 'researcher', 'course': 'python'}\n"
     ]
    }
   ],
   "source": [
    "b={'course':'python'}\n",
    "dic.update(b)\n",
    "print(dic)"
   ]
  },
  {
   "cell_type": "code",
   "execution_count": 108,
   "id": "6b91fa1b",
   "metadata": {},
   "outputs": [
    {
     "name": "stdout",
     "output_type": "stream",
     "text": [
      "{'name': 'Nishan', 'job': 'researcher', 'course': 'python'}\n"
     ]
    }
   ],
   "source": [
    "del dic['age']\n",
    "print(dic)"
   ]
  },
  {
   "cell_type": "code",
   "execution_count": 109,
   "id": "41f71287",
   "metadata": {},
   "outputs": [
    {
     "name": "stdout",
     "output_type": "stream",
     "text": [
      "{'name': 'Nishan', 'job': 'researcher', 'course': 'python'}\n"
     ]
    }
   ],
   "source": [
    "d=dic.copy()\n",
    "print(d)"
   ]
  },
  {
   "cell_type": "code",
   "execution_count": 1,
   "id": "3ac058b7",
   "metadata": {},
   "outputs": [
    {
     "name": "stdout",
     "output_type": "stream",
     "text": [
      "{'name': 'Nishan', 'age': 24, 'job': 'researcher'}\n"
     ]
    }
   ],
   "source": [
    "dic={\n",
    "    'name':'Nishan',\n",
    "    'age':24,\n",
    "    'job':'researcher'\n",
    "}\n",
    "print(dic)"
   ]
  },
  {
   "cell_type": "code",
   "execution_count": 2,
   "id": "a0ec16a5",
   "metadata": {},
   "outputs": [
    {
     "name": "stdout",
     "output_type": "stream",
     "text": [
      "{'name': 'shushan', 'age': 24, 'job': 'researcher'}\n"
     ]
    }
   ],
   "source": [
    "dic['name']='shushan'\n",
    "print(dic)"
   ]
  },
  {
   "cell_type": "code",
   "execution_count": 3,
   "id": "c5dd6a24",
   "metadata": {},
   "outputs": [
    {
     "name": "stdout",
     "output_type": "stream",
     "text": [
      "{'name': 'shushan', 'age': 24, 'job': 'researcher'}\n"
     ]
    }
   ],
   "source": [
    "d=dic.copy()\n",
    "print(d)"
   ]
  },
  {
   "cell_type": "code",
   "execution_count": 5,
   "id": "b11c1206",
   "metadata": {},
   "outputs": [
    {
     "name": "stdout",
     "output_type": "stream",
     "text": [
      "{'name': 'shushan', 'age': 24}\n"
     ]
    }
   ],
   "source": [
    "del dic['job']\n",
    "print(dic)"
   ]
  },
  {
   "cell_type": "code",
   "execution_count": 7,
   "id": "8ca98cf6",
   "metadata": {},
   "outputs": [
    {
     "name": "stdout",
     "output_type": "stream",
     "text": [
      "{'name': 'shushan', 'age': 24, 'varsity': 'BSMrsTU'}\n"
     ]
    }
   ],
   "source": [
    "b={\n",
    "    'varsity':'BSMrsTU'\n",
    "}\n",
    "dic.update(b)\n",
    "print(dic)"
   ]
  },
  {
   "cell_type": "code",
   "execution_count": 8,
   "id": "a70c3515",
   "metadata": {},
   "outputs": [
    {
     "name": "stdout",
     "output_type": "stream",
     "text": [
      "{}\n"
     ]
    }
   ],
   "source": [
    "dic.clear()\n",
    "print(dic)"
   ]
  },
  {
   "cell_type": "code",
   "execution_count": 9,
   "id": "644e9924",
   "metadata": {},
   "outputs": [
    {
     "name": "stdout",
     "output_type": "stream",
     "text": [
      "None\n"
     ]
    }
   ],
   "source": [
    "print(dic.get('name'))"
   ]
  },
  {
   "cell_type": "code",
   "execution_count": 10,
   "id": "99712186",
   "metadata": {},
   "outputs": [
    {
     "name": "stdout",
     "output_type": "stream",
     "text": [
      "{'name': 'Nishan', 'age': 24, 'job': 'researcher'}\n"
     ]
    }
   ],
   "source": [
    "dic={\n",
    "    'name':'Nishan',\n",
    "    'age':24,\n",
    "    'job':'researcher'\n",
    "}\n",
    "print(dic)"
   ]
  },
  {
   "cell_type": "code",
   "execution_count": 11,
   "id": "2e44e265",
   "metadata": {},
   "outputs": [
    {
     "name": "stdout",
     "output_type": "stream",
     "text": [
      "Nishan\n"
     ]
    }
   ],
   "source": [
    "print(dic.get('name'))"
   ]
  },
  {
   "cell_type": "code",
   "execution_count": 15,
   "id": "754bf2ac",
   "metadata": {},
   "outputs": [
    {
     "name": "stdout",
     "output_type": "stream",
     "text": [
      "dict_keys(['name', 'age', 'job'])\n"
     ]
    }
   ],
   "source": [
    "print(dic.keys())"
   ]
  },
  {
   "cell_type": "code",
   "execution_count": 16,
   "id": "f294f36e",
   "metadata": {},
   "outputs": [
    {
     "name": "stdout",
     "output_type": "stream",
     "text": [
      "dict_values(['Nishan', 24, 'researcher'])\n"
     ]
    }
   ],
   "source": [
    "print(dic.values())"
   ]
  },
  {
   "cell_type": "code",
   "execution_count": 17,
   "id": "2d52419a",
   "metadata": {},
   "outputs": [
    {
     "name": "stdout",
     "output_type": "stream",
     "text": [
      "dict_items([('name', 'Nishan'), ('age', 24), ('job', 'researcher')])\n"
     ]
    }
   ],
   "source": [
    "print(dic.items())"
   ]
  },
  {
   "cell_type": "code",
   "execution_count": 18,
   "id": "25c60975",
   "metadata": {},
   "outputs": [
    {
     "name": "stdout",
     "output_type": "stream",
     "text": [
      "nishan\n",
      "shushan\n",
      "jishan\n",
      "{0: 'nishan', 1: 'shushan', 2: 'jishan'}\n"
     ]
    }
   ],
   "source": [
    "a={}\n",
    "n=3\n",
    "for i in range(n):\n",
    "    a[i]=input()\n",
    "print(a)"
   ]
  },
  {
   "cell_type": "code",
   "execution_count": 19,
   "id": "cc17ac8f",
   "metadata": {},
   "outputs": [
    {
     "name": "stdout",
     "output_type": "stream",
     "text": [
      "nishan\n",
      "shudhan\n",
      "jihsn\n",
      "ammu\n",
      "vabi\n",
      "mahin\n",
      "lutfha\n",
      "jack\n",
      "azmal\n",
      "jakis\n",
      "{'nishan': 'shudhan', 'jihsn': 'ammu', 'vabi': 'mahin', 'lutfha': 'jack', 'azmal': 'jakis'}\n"
     ]
    }
   ],
   "source": [
    "a={}\n",
    "n=5\n",
    "for i in range(n):\n",
    "    keys=input()\n",
    "    values=input()\n",
    "    a[keys]=values\n",
    "print(a)\n",
    "    "
   ]
  },
  {
   "cell_type": "code",
   "execution_count": 24,
   "id": "11724517",
   "metadata": {},
   "outputs": [
    {
     "name": "stdout",
     "output_type": "stream",
     "text": [
      "{'name': 'ishan', 'age': 24, 'job': 'researcher'}\n"
     ]
    }
   ],
   "source": [
    "dic={'name':'Nishan','age':24,'job':'researcher'}\n",
    "dic2={'name':'ishan','age':24,'job':'researcher'}\n",
    "ndic={**dic,**dic2}\n",
    "print(ndic)"
   ]
  },
  {
   "cell_type": "code",
   "execution_count": 25,
   "id": "5ec54340",
   "metadata": {},
   "outputs": [
    {
     "name": "stdout",
     "output_type": "stream",
     "text": [
      "{'name': 'ishan', 'age': 24, 'job': 'researcher'}\n"
     ]
    }
   ],
   "source": [
    "dic={'name':'Nishan','age':24,'job':'researcher'}\n",
    "dic2={'name':'ishan','age':24,'job':'researcher'}\n",
    "ndic={**dic,**dic2}\n",
    "print(ndic)"
   ]
  },
  {
   "cell_type": "code",
   "execution_count": 27,
   "id": "a2efafd7",
   "metadata": {},
   "outputs": [
    {
     "name": "stdout",
     "output_type": "stream",
     "text": [
      "{'name': 'ishan', 'age': 24, 'job': 'researcher'}\n"
     ]
    }
   ],
   "source": [
    "dic1={'name':'Nishan','age':24,'job':'researcher'}\n",
    "dic2={'name':'ishan','age':24,'job':'researcher'}\n",
    "dic3={**dic1,**dic2}\n",
    "print(dic3)"
   ]
  },
  {
   "cell_type": "code",
   "execution_count": 30,
   "id": "7b58a833",
   "metadata": {},
   "outputs": [
    {
     "name": "stdout",
     "output_type": "stream",
     "text": [
      "{'nis': 23, 'jis': 24, 'shush': 25}\n"
     ]
    }
   ],
   "source": [
    "keys=['nis','jis','shush']\n",
    "values=[23,24,25]\n",
    "d=dict(zip(keys,values))\n",
    "print(d)"
   ]
  },
  {
   "cell_type": "code",
   "execution_count": 32,
   "id": "a7f5523f",
   "metadata": {},
   "outputs": [
    {
     "name": "stdout",
     "output_type": "stream",
     "text": [
      "{'name': 'ishan', 'age': 24, 'job': 'researcher'}\n"
     ]
    }
   ],
   "source": [
    "dic1={'name':'Nishan','age':24,'job':'researcher'}\n",
    "dic2={'name':'ishan','age':24,'job':'researcher'}\n",
    "dic3=dic1.copy()\n",
    "dic3.update(dic2)\n",
    "print(dic3)"
   ]
  },
  {
   "cell_type": "code",
   "execution_count": 33,
   "id": "94206ea1",
   "metadata": {},
   "outputs": [
    {
     "name": "stdout",
     "output_type": "stream",
     "text": [
      "{'name': 'Nishan', 'age': 24, 'job': 'researcher', 'varsity': 'MIT'}\n"
     ]
    }
   ],
   "source": [
    "dic1={'name':'Nishan','age':24,'job':'researcher'}\n",
    "b={'varsity':'MIT'}\n",
    "dic1.update(b)\n",
    "print(dic1)"
   ]
  },
  {
   "cell_type": "code",
   "execution_count": 3,
   "id": "153ca5c9",
   "metadata": {},
   "outputs": [
    {
     "name": "stdout",
     "output_type": "stream",
     "text": [
      "{'name': 'Nishan', 'age': 24, 'job': 'researcher', 'ten': 10, 'nine': 9, 'eight': 8}\n"
     ]
    }
   ],
   "source": [
    "dic1={'name':'Nishan','age':24,'job':'researcher'}\n",
    "dic2={'ten':10,'nine':9,'eight':8}\n",
    "di = dic1.copy()\n",
    "di.update(dic2)\n",
    "print(di)"
   ]
  },
  {
   "cell_type": "code",
   "execution_count": 4,
   "id": "982d570e",
   "metadata": {},
   "outputs": [
    {
     "name": "stdout",
     "output_type": "stream",
     "text": [
      "{'karim': {'age': 24, 'salary': 4000}, 'rahim': {'age': 24, 'salary': 4000}, 'jashim': {'age': 24, 'salary': 4000}}\n"
     ]
    }
   ],
   "source": [
    "employee={'rahim','karim','jashim'}\n",
    "job={'age':24,'salary':4000}\n",
    "d=dict.fromkeys(employee,job)\n",
    "print(d)"
   ]
  },
  {
   "cell_type": "code",
   "execution_count": 7,
   "id": "82a84e55",
   "metadata": {},
   "outputs": [
    {
     "name": "stdout",
     "output_type": "stream",
     "text": [
      "<class 'dict'>\n",
      "name is nishan\n",
      "age is 24\n"
     ]
    }
   ],
   "source": [
    "def fun(**kwargs):\n",
    "    print(type(kwargs))\n",
    "    \n",
    "    for key,value in kwargs.items():\n",
    "        print(\"{} is {}\".format(key,value))\n",
    "\n",
    "fun(name='nishan',age=24)"
   ]
  },
  {
   "cell_type": "code",
   "execution_count": null,
   "id": "9f0bc526",
   "metadata": {},
   "outputs": [],
   "source": []
  }
 ],
 "metadata": {
  "kernelspec": {
   "display_name": "Python 3 (ipykernel)",
   "language": "python",
   "name": "python3"
  },
  "language_info": {
   "codemirror_mode": {
    "name": "ipython",
    "version": 3
   },
   "file_extension": ".py",
   "mimetype": "text/x-python",
   "name": "python",
   "nbconvert_exporter": "python",
   "pygments_lexer": "ipython3",
   "version": "3.9.13"
  }
 },
 "nbformat": 4,
 "nbformat_minor": 5
}
