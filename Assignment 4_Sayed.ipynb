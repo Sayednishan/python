{
 "cells": [
  {
   "cell_type": "code",
   "execution_count": 1,
   "id": "d53a911c",
   "metadata": {},
   "outputs": [
    {
     "data": {
      "text/plain": [
       "'Chairman'"
      ]
     },
     "execution_count": 1,
     "metadata": {},
     "output_type": "execute_result"
    }
   ],
   "source": [
    "from abc import ABCMeta , abstractmethod\n",
    "class Employee(metaclass=ABCMeta):\n",
    "    @abstractmethod\n",
    "    def get_position(self):\n",
    "        pass\n",
    "    @abstractmethod\n",
    "    def get_salary(self):\n",
    "        pass\n",
    "    \n",
    "class SalesEmployee(Employee):\n",
    "    def __init__(self,position,salary):\n",
    "        self.position=position\n",
    "        self.salary=salary\n",
    "    def get_position(self):\n",
    "        return self.position\n",
    "    def get_salary(self):\n",
    "        return self.salary\n",
    "\n",
    "\n",
    "emp_details=SalesEmployee('Chairman',40000)\n",
    "emp_details.get_position()"
   ]
  },
  {
   "cell_type": "code",
   "execution_count": 2,
   "id": "d32f9b09",
   "metadata": {},
   "outputs": [
    {
     "data": {
      "text/plain": [
       "40000"
      ]
     },
     "execution_count": 2,
     "metadata": {},
     "output_type": "execute_result"
    }
   ],
   "source": [
    "emp_details.get_salary()"
   ]
  },
  {
   "cell_type": "code",
   "execution_count": null,
   "id": "3fb753b2",
   "metadata": {},
   "outputs": [],
   "source": []
  }
 ],
 "metadata": {
  "kernelspec": {
   "display_name": "Python 3 (ipykernel)",
   "language": "python",
   "name": "python3"
  },
  "language_info": {
   "codemirror_mode": {
    "name": "ipython",
    "version": 3
   },
   "file_extension": ".py",
   "mimetype": "text/x-python",
   "name": "python",
   "nbconvert_exporter": "python",
   "pygments_lexer": "ipython3",
   "version": "3.9.13"
  }
 },
 "nbformat": 4,
 "nbformat_minor": 5
}
