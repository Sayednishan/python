{
 "cells": [
  {
   "cell_type": "code",
   "execution_count": 2,
   "id": "af73181a",
   "metadata": {},
   "outputs": [
    {
     "name": "stdout",
     "output_type": "stream",
     "text": [
      "<class 'list'>\n",
      "<class 'numpy.ndarray'>\n",
      "[1 2 3 4 5 6]\n"
     ]
    }
   ],
   "source": [
    "import numpy as np\n",
    "lis=[1,2,3,4,5,6]\n",
    "print(type(lis))\n",
    "arr=np.array(lis)\n",
    "print(type(arr))\n",
    "print(arr)"
   ]
  },
  {
   "cell_type": "code",
   "execution_count": 4,
   "id": "3fb2f670",
   "metadata": {},
   "outputs": [
    {
     "name": "stdout",
     "output_type": "stream",
     "text": [
      "[1, 2, 3, 4, 5, 6, 7, 8, 9, 10, 11]\n"
     ]
    }
   ],
   "source": [
    "def fun():\n",
    "    lis=[]\n",
    "    for i in range(1,12,1):\n",
    "        lis.append(i)\n",
    "    print(lis)\n",
    "fun()\n",
    "        "
   ]
  },
  {
   "cell_type": "code",
   "execution_count": 5,
   "id": "b57f1d1a",
   "metadata": {},
   "outputs": [
    {
     "name": "stdout",
     "output_type": "stream",
     "text": [
      "[1 2 3 4 5 6]\n"
     ]
    }
   ],
   "source": [
    "arr=np.array(lis)\n",
    "print(arr)"
   ]
  },
  {
   "cell_type": "code",
   "execution_count": 6,
   "id": "cf684d43",
   "metadata": {},
   "outputs": [
    {
     "name": "stdout",
     "output_type": "stream",
     "text": [
      "[[1. 0. 0. 0.]\n",
      " [0. 1. 0. 0.]\n",
      " [0. 0. 1. 0.]\n",
      " [0. 0. 0. 1.]]\n"
     ]
    }
   ],
   "source": [
    "arr=np.eye(4,4)\n",
    "print(arr)"
   ]
  },
  {
   "cell_type": "code",
   "execution_count": 8,
   "id": "827c939d",
   "metadata": {},
   "outputs": [
    {
     "name": "stdout",
     "output_type": "stream",
     "text": [
      "[[1. 0.]\n",
      " [0. 0.]\n",
      " [0. 1.]\n",
      " [0. 0.]\n",
      " [0. 0.]\n",
      " [1. 0.]\n",
      " [0. 0.]\n",
      " [0. 1.]]\n"
     ]
    }
   ],
   "source": [
    "arr=np.eye(4,4).reshape(8,2)\n",
    "print(arr)"
   ]
  },
  {
   "cell_type": "code",
   "execution_count": 14,
   "id": "cb2e156f",
   "metadata": {},
   "outputs": [
    {
     "name": "stdout",
     "output_type": "stream",
     "text": [
      "[ 15   4  96  72  46 102  55  47  43  50  75  52]\n",
      "[-13   0 -90 -64 -36 -90 -41 -31 -25 -30 -53 -28]\n",
      "[ 14   4 279 272 205 576 336 312 306 400 704 480]\n",
      "[0.07142857 1.         0.03225806 0.05882353 0.12195122 0.0625\n",
      " 0.14583333 0.20512821 0.26470588 0.25       0.171875   0.3       ] <class 'int'>\n"
     ]
    }
   ],
   "source": [
    "arr1=np.arange(1,13,1)\n",
    "arr2=np.random.randint(0,100,12)\n",
    "print(arr1+arr2)\n",
    "print(arr1-arr2)\n",
    "print(arr1*arr2)\n",
    "print(arr1/arr2,int)\n"
   ]
  },
  {
   "cell_type": "code",
   "execution_count": 19,
   "id": "d91e3871",
   "metadata": {},
   "outputs": [
    {
     "name": "stdout",
     "output_type": "stream",
     "text": [
      "[ 1  2  3  4  5  6  7  8  9 10 11 12 13 14 15 16 17 18 19 20 21 22 23 24\n",
      " 25 26 27 28 29 30 31 32 33 34 35 36 37 38 39 40 41 42 43 44 45 46 47 48\n",
      " 49 50 51 52 53 54 55 56 57 58 59 60 61 62 63 64 65 66 67 68 69 70 71 72\n",
      " 73 74 75 76 77 78 79 80 81 82 83 84 85 86 87 88 89 90 91 92 93 94 95 96\n",
      " 97 98 99]\n"
     ]
    }
   ],
   "source": [
    "arr1=np.arange(1,100)\n",
    "print(arr1)"
   ]
  },
  {
   "cell_type": "code",
   "execution_count": 20,
   "id": "fe9e84e3",
   "metadata": {},
   "outputs": [
    {
     "name": "stdout",
     "output_type": "stream",
     "text": [
      "15 30 45 60 75 90 "
     ]
    }
   ],
   "source": [
    "for i in arr1:\n",
    "    if i%3==0 and i%5==0:\n",
    "        print(i,end=' ')"
   ]
  },
  {
   "cell_type": "code",
   "execution_count": 1,
   "id": "e7de2086",
   "metadata": {},
   "outputs": [
    {
     "name": "stdout",
     "output_type": "stream",
     "text": [
      "[[44 57 33 31 75]\n",
      " [68 63 53 78 29]\n",
      " [73 22 25 37 84]\n",
      " [30 82 67 17 80]\n",
      " [88 55 99 28 62]]\n"
     ]
    }
   ],
   "source": [
    "import numpy as np\n",
    "arr=np.random.randint(1,100,(5,5))\n",
    "print(arr)"
   ]
  },
  {
   "cell_type": "code",
   "execution_count": 2,
   "id": "e88d5a64",
   "metadata": {},
   "outputs": [
    {
     "data": {
      "text/plain": [
       "array([[75, 31, 33, 57, 44],\n",
       "       [29, 78, 53, 63, 68],\n",
       "       [84, 37, 25, 22, 73],\n",
       "       [80, 17, 67, 82, 30],\n",
       "       [62, 28, 99, 55, 88]])"
      ]
     },
     "execution_count": 2,
     "metadata": {},
     "output_type": "execute_result"
    }
   ],
   "source": [
    "arr[:,::-1]"
   ]
  },
  {
   "cell_type": "markdown",
   "id": "89d16175",
   "metadata": {},
   "source": [
    "# columns in the first matrix is the same as the number of rows in the second matrix"
   ]
  },
  {
   "cell_type": "code",
   "execution_count": 15,
   "id": "1358525e",
   "metadata": {},
   "outputs": [
    {
     "name": "stdout",
     "output_type": "stream",
     "text": [
      "[[ 15  18  21]\n",
      " [ 42  54  66]\n",
      " [ 69  90 111]\n",
      " [ 96 126 156]]\n"
     ]
    }
   ],
   "source": [
    "ar1=np.arange(12).reshape(4,3)\n",
    "ar2=np.arange(9).reshape(3,3)\n",
    "if ar1.shape[1]==ar2.shape[1]:\n",
    "    print(ar1.dot(ar2))\n",
    "else:\n",
    "    print('not possible')\n"
   ]
  },
  {
   "cell_type": "code",
   "execution_count": 18,
   "id": "814b396a",
   "metadata": {},
   "outputs": [
    {
     "name": "stdout",
     "output_type": "stream",
     "text": [
      "[[77 62 18 65 99 64]\n",
      " [45  8 25 14 19 82]\n",
      " [28 64 94 99  9 56]\n",
      " [77 70 58 66 10 97]\n",
      " [ 4 19 46 73 69 17]\n",
      " [24 21  9 96 22 97]]\n",
      "[[66 10 97]\n",
      " [73 69 17]\n",
      " [96 22 97]]\n"
     ]
    }
   ],
   "source": [
    "arr=np.random.randint(1,100,size=(6,6))\n",
    "print(arr)\n",
    "print(arr[3:6,3:6])"
   ]
  },
  {
   "cell_type": "markdown",
   "id": "b4553bda",
   "metadata": {},
   "source": [
    "## ## axis=0 equal to column\n",
    "## axis =1 equal to row"
   ]
  },
  {
   "cell_type": "code",
   "execution_count": 26,
   "id": "53532330",
   "metadata": {},
   "outputs": [
    {
     "name": "stdout",
     "output_type": "stream",
     "text": [
      "[[2 4 3]\n",
      " [8 1 9]]\n",
      "row wise ascending: \n",
      " [[2 3 4]\n",
      " [1 8 9]]\n",
      "column wise ascending: \n",
      " [[2 1 3]\n",
      " [8 4 9]]\n",
      "row wise descending:\n",
      " [[4 3 2]\n",
      " [9 8 1]]\n",
      "column wise descending:\n",
      " [[8 4 9]\n",
      " [2 1 3]]\n"
     ]
    }
   ],
   "source": [
    "arr=np.array([[2,4,3],[8,1,9]])\n",
    "print(arr)\n",
    "print('row wise ascending: \\n',np.sort(arr,axis=1)) #row wise ascending\n",
    "print('column wise ascending: \\n',np.sort(arr,axis=0)) #column wise ascending\n",
    "print('row wise descending:\\n',-np.sort(-arr,axis=1))\n",
    "print('column wise descending:\\n',-np.sort(-arr,axis=0))"
   ]
  },
  {
   "cell_type": "code",
   "execution_count": 31,
   "id": "d96744df",
   "metadata": {},
   "outputs": [
    {
     "name": "stdout",
     "output_type": "stream",
     "text": [
      "{'name': 'nishan', 'age': 24, 'occupation': 'researcher'}\n",
      "[('name', 'nishan'), ('age', 24), ('occupation', 'researcher')]\n",
      "[['name' 'nishan']\n",
      " ['age' '24']\n",
      " ['occupation' 'researcher']]\n"
     ]
    }
   ],
   "source": [
    "dic={\n",
    "    'name':'nishan',\n",
    "    'age':24,\n",
    "    'occupation':'researcher'\n",
    "}\n",
    "print(dic)\n",
    "lis=list(dic.items())\n",
    "print(lis)\n",
    "li=np.array(lis)\n",
    "print(li)"
   ]
  },
  {
   "cell_type": "code",
   "execution_count": 32,
   "id": "3392effc",
   "metadata": {},
   "outputs": [
    {
     "name": "stdout",
     "output_type": "stream",
     "text": [
      "[[1 2 3]\n",
      " [4 5 6]]\n"
     ]
    }
   ],
   "source": [
    "arr1=np.array([[1,2,3],[4,5,6]])\n",
    "print(arr1)"
   ]
  },
  {
   "cell_type": "code",
   "execution_count": 34,
   "id": "c2a417e5",
   "metadata": {},
   "outputs": [
    {
     "data": {
      "text/plain": [
       "array([[1, 1, 1],\n",
       "       [1, 1, 1],\n",
       "       [1, 1, 1]])"
      ]
     },
     "execution_count": 34,
     "metadata": {},
     "output_type": "execute_result"
    }
   ],
   "source": [
    "np.ones([3,3],dtype='int')"
   ]
  },
  {
   "cell_type": "code",
   "execution_count": 35,
   "id": "922fecbe",
   "metadata": {},
   "outputs": [
    {
     "data": {
      "text/plain": [
       "array([[0, 0, 0],\n",
       "       [0, 0, 0],\n",
       "       [0, 0, 0]])"
      ]
     },
     "execution_count": 35,
     "metadata": {},
     "output_type": "execute_result"
    }
   ],
   "source": [
    "np.zeros([3,3],dtype='int')"
   ]
  },
  {
   "cell_type": "code",
   "execution_count": 38,
   "id": "ab523eb3",
   "metadata": {},
   "outputs": [
    {
     "data": {
      "text/plain": [
       "array([[5, 5, 5],\n",
       "       [5, 5, 5],\n",
       "       [5, 5, 5]])"
      ]
     },
     "execution_count": 38,
     "metadata": {},
     "output_type": "execute_result"
    }
   ],
   "source": [
    "np.full((3,3),5)"
   ]
  },
  {
   "cell_type": "code",
   "execution_count": 39,
   "id": "b913ddda",
   "metadata": {},
   "outputs": [
    {
     "data": {
      "text/plain": [
       "6"
      ]
     },
     "execution_count": 39,
     "metadata": {},
     "output_type": "execute_result"
    }
   ],
   "source": [
    "arr1.max()"
   ]
  },
  {
   "cell_type": "code",
   "execution_count": 40,
   "id": "d045d056",
   "metadata": {},
   "outputs": [
    {
     "data": {
      "text/plain": [
       "1"
      ]
     },
     "execution_count": 40,
     "metadata": {},
     "output_type": "execute_result"
    }
   ],
   "source": [
    "arr1.min()"
   ]
  },
  {
   "cell_type": "code",
   "execution_count": 41,
   "id": "8807e41d",
   "metadata": {},
   "outputs": [
    {
     "data": {
      "text/plain": [
       "array([[52, 71, 67],\n",
       "       [12, 50, 76],\n",
       "       [20, 18, 51]])"
      ]
     },
     "execution_count": 41,
     "metadata": {},
     "output_type": "execute_result"
    }
   ],
   "source": [
    "ar=np.random.randint(1,100,size=(3,3))\n",
    "ar"
   ]
  },
  {
   "cell_type": "code",
   "execution_count": 42,
   "id": "2efad291",
   "metadata": {},
   "outputs": [
    {
     "data": {
      "text/plain": [
       "array([40, 46, 18, 91, 17, 58,  3])"
      ]
     },
     "execution_count": 42,
     "metadata": {},
     "output_type": "execute_result"
    }
   ],
   "source": [
    "ar=np.random.randint(1,100,7)\n",
    "ar"
   ]
  },
  {
   "cell_type": "code",
   "execution_count": 43,
   "id": "1afc6f97",
   "metadata": {},
   "outputs": [
    {
     "data": {
      "text/plain": [
       "array([[2, 0, 0, 0],\n",
       "       [0, 3, 0, 0],\n",
       "       [0, 0, 4, 0],\n",
       "       [0, 0, 0, 5]])"
      ]
     },
     "execution_count": 43,
     "metadata": {},
     "output_type": "execute_result"
    }
   ],
   "source": [
    "ar=np.diag([2,3,4,5])\n",
    "ar"
   ]
  },
  {
   "cell_type": "code",
   "execution_count": 44,
   "id": "e36256f7",
   "metadata": {},
   "outputs": [
    {
     "data": {
      "text/plain": [
       "array([[4, 0],\n",
       "       [0, 5]])"
      ]
     },
     "execution_count": 44,
     "metadata": {},
     "output_type": "execute_result"
    }
   ],
   "source": [
    "ar[2:,2:]"
   ]
  },
  {
   "cell_type": "code",
   "execution_count": 46,
   "id": "ec935615",
   "metadata": {},
   "outputs": [
    {
     "data": {
      "text/plain": [
       "array([23, 61, 26, 96, 90, 49,  1, 23, 19, 10])"
      ]
     },
     "execution_count": 46,
     "metadata": {},
     "output_type": "execute_result"
    }
   ],
   "source": [
    "ar=np.random.randint(1,100,10)\n",
    "ar"
   ]
  },
  {
   "cell_type": "code",
   "execution_count": 47,
   "id": "8461a6c5",
   "metadata": {},
   "outputs": [
    {
     "data": {
      "text/plain": [
       "array([23, 26, 90,  1, 19])"
      ]
     },
     "execution_count": 47,
     "metadata": {},
     "output_type": "execute_result"
    }
   ],
   "source": [
    "ar[::2]"
   ]
  },
  {
   "cell_type": "code",
   "execution_count": 49,
   "id": "add92cc6",
   "metadata": {},
   "outputs": [
    {
     "data": {
      "text/plain": [
       "array([1, 2, 3, 4, 5, 6, 7, 8])"
      ]
     },
     "execution_count": 49,
     "metadata": {},
     "output_type": "execute_result"
    }
   ],
   "source": [
    "ar1=np.array([1,2,3,4])\n",
    "ar2=np.array([5,6,7,8])\n",
    "np.hstack((ar1,ar2))"
   ]
  },
  {
   "cell_type": "code",
   "execution_count": null,
   "id": "6613d867",
   "metadata": {},
   "outputs": [],
   "source": []
  }
 ],
 "metadata": {
  "kernelspec": {
   "display_name": "Python 3 (ipykernel)",
   "language": "python",
   "name": "python3"
  },
  "language_info": {
   "codemirror_mode": {
    "name": "ipython",
    "version": 3
   },
   "file_extension": ".py",
   "mimetype": "text/x-python",
   "name": "python",
   "nbconvert_exporter": "python",
   "pygments_lexer": "ipython3",
   "version": "3.9.13"
  }
 },
 "nbformat": 4,
 "nbformat_minor": 5
}
