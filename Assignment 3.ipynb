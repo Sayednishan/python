{
 "cells": [
  {
   "cell_type": "code",
   "execution_count": 1,
   "id": "ff21f030",
   "metadata": {},
   "outputs": [
    {
     "name": "stdout",
     "output_type": "stream",
     "text": [
      "23 12\n",
      "35\n"
     ]
    },
    {
     "data": {
      "text/plain": [
       "False"
      ]
     },
     "execution_count": 1,
     "metadata": {},
     "output_type": "execute_result"
    }
   ],
   "source": [
    "a,b=map(int,input().split())\n",
    "sum=a+b\n",
    "print(sum)\n",
    "sum==45\n"
   ]
  },
  {
   "cell_type": "code",
   "execution_count": 3,
   "id": "3a50416d",
   "metadata": {},
   "outputs": [
    {
     "name": "stdout",
     "output_type": "stream",
     "text": [
      "3 3\n",
      "6\n",
      "False\n"
     ]
    }
   ],
   "source": [
    "a,b=map(int,input().split())\n",
    "sum=a+b\n",
    "print(sum)\n",
    "print(sum==45)"
   ]
  },
  {
   "cell_type": "code",
   "execution_count": 6,
   "id": "78b3c2e0",
   "metadata": {},
   "outputs": [
    {
     "name": "stdout",
     "output_type": "stream",
     "text": [
      "nishan nishan\n",
      "True\n"
     ]
    }
   ],
   "source": [
    "a,b=input().split()\n",
    "if a==b:\n",
    "    print(True)\n",
    "else:\n",
    "    print(False)"
   ]
  },
  {
   "cell_type": "code",
   "execution_count": 7,
   "id": "53de7b61",
   "metadata": {},
   "outputs": [
    {
     "name": "stdout",
     "output_type": "stream",
     "text": [
      "nishan nishan\n",
      "True\n"
     ]
    }
   ],
   "source": [
    "a,b=input().split()\n",
    "print(a==b)"
   ]
  },
  {
   "cell_type": "code",
   "execution_count": 8,
   "id": "ac1a1361",
   "metadata": {},
   "outputs": [
    {
     "name": "stdout",
     "output_type": "stream",
     "text": [
      "python\n",
      "python\n",
      "False\n",
      "True\n"
     ]
    }
   ],
   "source": [
    "str1=input()\n",
    "str2=input()\n",
    "print(str1 is str2)\n",
    "print(str1==str2)"
   ]
  },
  {
   "cell_type": "code",
   "execution_count": 9,
   "id": "4c939627",
   "metadata": {},
   "outputs": [
    {
     "name": "stdout",
     "output_type": "stream",
     "text": [
      "3047265961200\n",
      "3047265960944\n"
     ]
    }
   ],
   "source": [
    "print(id(str1))\n",
    "print(id(str2))\n"
   ]
  },
  {
   "cell_type": "code",
   "execution_count": 11,
   "id": "cdb11c1c",
   "metadata": {},
   "outputs": [
    {
     "data": {
      "text/plain": [
       "True"
      ]
     },
     "execution_count": 11,
     "metadata": {},
     "output_type": "execute_result"
    }
   ],
   "source": [
    "from sys import intern\n",
    "str1=intern(str1)\n",
    "str2=intern(str2)\n",
    "str1 is str2"
   ]
  },
  {
   "cell_type": "code",
   "execution_count": 13,
   "id": "ce0b03a7",
   "metadata": {},
   "outputs": [
    {
     "name": "stdout",
     "output_type": "stream",
     "text": [
      "3 3\n",
      "27\n"
     ]
    }
   ],
   "source": [
    "a,b =map(int,input().split())\n",
    "\n",
    "a**=b\n",
    "print(a)"
   ]
  },
  {
   "cell_type": "code",
   "execution_count": 15,
   "id": "537227bd",
   "metadata": {},
   "outputs": [
    {
     "name": "stdout",
     "output_type": "stream",
     "text": [
      "12 5\n",
      "7\n",
      "1\n"
     ]
    }
   ],
   "source": [
    "a,b=map(int,input().split())\n",
    "a-=b\n",
    "print(a)\n",
    "a//=b\n",
    "print(a)"
   ]
  },
  {
   "cell_type": "code",
   "execution_count": 1,
   "id": "8eb79599",
   "metadata": {},
   "outputs": [
    {
     "name": "stdout",
     "output_type": "stream",
     "text": [
      "3 12\n",
      "-9\n"
     ]
    }
   ],
   "source": [
    "a,b=map(int,input().split())\n",
    "dif=a-b\n",
    "fdif=a//b\n",
    "d=dif-fdif\n",
    "print(d)"
   ]
  },
  {
   "cell_type": "code",
   "execution_count": 1,
   "id": "59828167",
   "metadata": {},
   "outputs": [
    {
     "name": "stdout",
     "output_type": "stream",
     "text": [
      "True\n"
     ]
    }
   ],
   "source": [
    "a='\"online free course:: python for research\"'\n",
    "c='python' in a\n",
    "print(c)"
   ]
  },
  {
   "cell_type": "code",
   "execution_count": 4,
   "id": "92beb26c",
   "metadata": {},
   "outputs": [
    {
     "name": "stdout",
     "output_type": "stream",
     "text": [
      "12 5\n",
      "2\n",
      "False\n"
     ]
    }
   ],
   "source": [
    "a,b=map(int,input().split())\n",
    "a%=b\n",
    "print(a)\n",
    "print(a>5)"
   ]
  },
  {
   "cell_type": "code",
   "execution_count": 8,
   "id": "336ed824",
   "metadata": {},
   "outputs": [
    {
     "name": "stdout",
     "output_type": "stream",
     "text": [
      "nishan\n",
      "1\n",
      "nishan1\n"
     ]
    }
   ],
   "source": [
    "a=input()\n",
    "b=int(input())\n",
    "print(a,end='')\n",
    "print(b)"
   ]
  },
  {
   "cell_type": "code",
   "execution_count": 9,
   "id": "f8ce3a8f",
   "metadata": {},
   "outputs": [
    {
     "name": "stdout",
     "output_type": "stream",
     "text": [
      "nishan\n",
      "001\n",
      "nishan1\n"
     ]
    }
   ],
   "source": [
    "a=input()\n",
    "b=int(input())\n",
    "b=str(b)\n",
    "new=a+b\n",
    "print(new)"
   ]
  },
  {
   "cell_type": "code",
   "execution_count": null,
   "id": "f844db62",
   "metadata": {},
   "outputs": [],
   "source": []
  }
 ],
 "metadata": {
  "kernelspec": {
   "display_name": "Python 3 (ipykernel)",
   "language": "python",
   "name": "python3"
  },
  "language_info": {
   "codemirror_mode": {
    "name": "ipython",
    "version": 3
   },
   "file_extension": ".py",
   "mimetype": "text/x-python",
   "name": "python",
   "nbconvert_exporter": "python",
   "pygments_lexer": "ipython3",
   "version": "3.9.13"
  }
 },
 "nbformat": 4,
 "nbformat_minor": 5
}
