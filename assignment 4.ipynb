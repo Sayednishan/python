{
 "cells": [
  {
   "cell_type": "code",
   "execution_count": 1,
   "id": "8bb9f410",
   "metadata": {},
   "outputs": [
    {
     "name": "stdout",
     "output_type": "stream",
     "text": [
      "4 4\n",
      "yes\n"
     ]
    }
   ],
   "source": [
    "a,b=map(int,input().split())\n",
    "if a==b:\n",
    "    print('yes')\n",
    "else:\n",
    "    print('no')"
   ]
  },
  {
   "cell_type": "code",
   "execution_count": 2,
   "id": "d0d1a323",
   "metadata": {},
   "outputs": [
    {
     "name": "stdout",
     "output_type": "stream",
     "text": [
      "21\n",
      "nothing to say\n"
     ]
    }
   ],
   "source": [
    "a=int(input())\n",
    "if a<20:\n",
    "    print('i am right')\n",
    "else:\n",
    "    print('nothing to say')"
   ]
  },
  {
   "cell_type": "code",
   "execution_count": 5,
   "id": "2cd5a52e",
   "metadata": {},
   "outputs": [
    {
     "name": "stdout",
     "output_type": "stream",
     "text": [
      "13 14\n",
      "13.5\n",
      "b is greater\n"
     ]
    }
   ],
   "source": [
    "a,b=map(int,input().split())\n",
    "avg=(a+b)/2\n",
    "print(avg)\n",
    "if avg<a:\n",
    "    print('a is greater')\n",
    "else:\n",
    "    print('b is greater')"
   ]
  },
  {
   "cell_type": "code",
   "execution_count": 7,
   "id": "da71ddc3",
   "metadata": {},
   "outputs": [
    {
     "name": "stdout",
     "output_type": "stream",
     "text": [
      "23 24\n",
      "False\n"
     ]
    }
   ],
   "source": [
    "x,y=map(int,input().split())\n",
    "z=(x*x%y)>(y*x)\n",
    "print(z)"
   ]
  },
  {
   "cell_type": "code",
   "execution_count": 10,
   "id": "80d12868",
   "metadata": {},
   "outputs": [
    {
     "name": "stdout",
     "output_type": "stream",
     "text": [
      "13 15\n",
      "odd\n"
     ]
    }
   ],
   "source": [
    "a,b=map(int,input().split())\n",
    "c=a%5\n",
    "d=b%5\n",
    "if c%2==0 and d%2==0:\n",
    "    print('even')\n",
    "else:\n",
    "    print('odd')"
   ]
  },
  {
   "cell_type": "code",
   "execution_count": 11,
   "id": "52dd35b7",
   "metadata": {},
   "outputs": [
    {
     "name": "stdout",
     "output_type": "stream",
     "text": [
      "12 3\n",
      "yes\n"
     ]
    }
   ],
   "source": [
    "a,b=map(int,input().split())\n",
    "if a%b==0:\n",
    "    print('yes')\n",
    "else:\n",
    "    print('no')"
   ]
  },
  {
   "cell_type": "code",
   "execution_count": 12,
   "id": "45690610",
   "metadata": {},
   "outputs": [
    {
     "name": "stdout",
     "output_type": "stream",
     "text": [
      "12 13 14\n",
      "b is large\n"
     ]
    }
   ],
   "source": [
    "a,b,c=map(int,input().split())\n",
    "if a>b and b>c:\n",
    "    print('a is large')\n",
    "elif b>a:\n",
    "    print('b is large')\n",
    "else:\n",
    "    print('c is large')"
   ]
  },
  {
   "cell_type": "code",
   "execution_count": 15,
   "id": "c1677fa4",
   "metadata": {},
   "outputs": [
    {
     "name": "stdout",
     "output_type": "stream",
     "text": [
      "12\n",
      "yes\n"
     ]
    }
   ],
   "source": [
    "a=int(input())\n",
    "if a>10:\n",
    "    if(a%2==0):\n",
    "        print('yes')\n",
    "else:\n",
    "    print('nothing')"
   ]
  },
  {
   "cell_type": "code",
   "execution_count": 17,
   "id": "9bd4e454",
   "metadata": {},
   "outputs": [
    {
     "name": "stdout",
     "output_type": "stream",
     "text": [
      "63\n",
      "B+\n"
     ]
    }
   ],
   "source": [
    "a=int(input())\n",
    "if a<=100 and a>=80:\n",
    "    print('A+')\n",
    "elif a<80 and a>=75:\n",
    "    print('A')\n",
    "elif a<75 and a>=70:\n",
    "    print('A-')\n",
    "elif a<65 and a>=60:\n",
    "    print('B+')\n",
    "elif a<60 and a>=55:\n",
    "    print('B-')\n",
    "elif a<55 and a>=50:\n",
    "    print('C+')\n",
    "elif a<50 and a>=45:\n",
    "    print('C')\n",
    "elif a<40:\n",
    "    print('Fail')\n",
    "    "
   ]
  },
  {
   "cell_type": "code",
   "execution_count": 19,
   "id": "44922d17",
   "metadata": {},
   "outputs": [
    {
     "name": "stdout",
     "output_type": "stream",
     "text": [
      "f\n",
      "f\n"
     ]
    }
   ],
   "source": [
    "choise=input()\n",
    "if choise=='a':\n",
    "    print('a')\n",
    "elif choise =='b':\n",
    "    print('b')\n",
    "elif choise =='c':\n",
    "    print('d')\n",
    "elif choise =='f':\n",
    "    print('f')\n",
    "else:\n",
    "    print('nothing')"
   ]
  },
  {
   "cell_type": "code",
   "execution_count": 22,
   "id": "287ed287",
   "metadata": {},
   "outputs": [
    {
     "name": "stdout",
     "output_type": "stream",
     "text": [
      "-3\n",
      "python\n"
     ]
    }
   ],
   "source": [
    "a=int(input())\n",
    "if a<0:\n",
    "    if a<-5:\n",
    "        print('Nishan')\n",
    "    else:\n",
    "        print('python')\n",
    "else:\n",
    "    if a%2==0:\n",
    "        print('EVEN')\n",
    "    else:\n",
    "        print('ODD')\n",
    "        "
   ]
  },
  {
   "cell_type": "code",
   "execution_count": 23,
   "id": "dd29ea7d",
   "metadata": {},
   "outputs": [
    {
     "name": "stdout",
     "output_type": "stream",
     "text": [
      "21\n",
      "False\n"
     ]
    }
   ],
   "source": [
    "num=int(input())\n",
    "print('True') if a>20 else print('False')"
   ]
  },
  {
   "cell_type": "code",
   "execution_count": null,
   "id": "abbfead3",
   "metadata": {},
   "outputs": [],
   "source": []
  }
 ],
 "metadata": {
  "kernelspec": {
   "display_name": "Python 3 (ipykernel)",
   "language": "python",
   "name": "python3"
  },
  "language_info": {
   "codemirror_mode": {
    "name": "ipython",
    "version": 3
   },
   "file_extension": ".py",
   "mimetype": "text/x-python",
   "name": "python",
   "nbconvert_exporter": "python",
   "pygments_lexer": "ipython3",
   "version": "3.9.13"
  }
 },
 "nbformat": 4,
 "nbformat_minor": 5
}
